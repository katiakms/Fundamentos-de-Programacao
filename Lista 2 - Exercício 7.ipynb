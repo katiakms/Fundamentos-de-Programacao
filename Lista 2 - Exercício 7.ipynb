{
 "cells": [
  {
   "cell_type": "code",
   "execution_count": 1,
   "metadata": {},
   "outputs": [],
   "source": [
    "#Lista de exercícios 2\n",
    "\n",
    "#7) Faça um algoritmo que leia o tempo em minutos e escreva o tempo equivalente em segundos na tela."
   ]
  },
  {
   "cell_type": "code",
   "execution_count": 4,
   "metadata": {},
   "outputs": [
    {
     "name": "stdout",
     "output_type": "stream",
     "text": [
      "Entre com o tempo em minutos: 1\n",
      "O tempo em segundos é: 60\n"
     ]
    }
   ],
   "source": [
    "tempo_minutos = input('Entre com o tempo em minutos: ')\n",
    "\n",
    "tempo_segundos = int(tempo_minutos)*60\n",
    "\n",
    "print('O tempo em segundos é:', tempo_segundos)"
   ]
  },
  {
   "cell_type": "code",
   "execution_count": null,
   "metadata": {},
   "outputs": [],
   "source": []
  },
  {
   "cell_type": "code",
   "execution_count": null,
   "metadata": {},
   "outputs": [],
   "source": []
  }
 ],
 "metadata": {
  "kernelspec": {
   "display_name": "Python 3",
   "language": "python",
   "name": "python3"
  },
  "language_info": {
   "codemirror_mode": {
    "name": "ipython",
    "version": 3
   },
   "file_extension": ".py",
   "mimetype": "text/x-python",
   "name": "python",
   "nbconvert_exporter": "python",
   "pygments_lexer": "ipython3",
   "version": "3.8.5"
  }
 },
 "nbformat": 4,
 "nbformat_minor": 4
}
