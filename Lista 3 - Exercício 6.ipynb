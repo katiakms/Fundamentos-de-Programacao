{
 "cells": [
  {
   "cell_type": "code",
   "execution_count": 25,
   "metadata": {},
   "outputs": [],
   "source": [
    "#Lista de exercícios 3\n",
    "\n",
    "#6) Após dois anos de namoro, um casal resolveu morar junto para diminuir as despesas e dividi-las de forma equilibrada\n",
    "#Leia a informação do salário de cada um, o total das despesas e calcule o percentual e o valor que cada um deve pagar:\n",
    "#quem ganha mais, paga mais"
   ]
  },
  {
   "cell_type": "code",
   "execution_count": 1,
   "metadata": {},
   "outputs": [
    {
     "name": "stdout",
     "output_type": "stream",
     "text": [
      "Entre o valor do salário da primeira pessoa: 50\n",
      "Entre o valor do salário da segunda pessoa: 59\n",
      "Entre o valor das despesas: 30\n"
     ]
    }
   ],
   "source": [
    "salario_pessoa1 = input('Entre o valor do salário da primeira pessoa: ')\n",
    "salario_pessoa2 = input('Entre o valor do salário da segunda pessoa: ')\n",
    "despesas = input('Entre o valor das despesas: ')"
   ]
  },
  {
   "cell_type": "code",
   "execution_count": 2,
   "metadata": {},
   "outputs": [
    {
     "name": "stdout",
     "output_type": "stream",
     "text": [
      "45.87155963302752\n",
      "54.12844036697248\n"
     ]
    }
   ],
   "source": [
    "percento_pessoa1 = float(salario_pessoa1)/(float(salario_pessoa1)+float(salario_pessoa2)) * 100\n",
    "percento_pessoa2 = float(salario_pessoa2)/(float(salario_pessoa1)+float(salario_pessoa2))  * 100\n",
    "print(percento_pessoa1)\n",
    "print(percento_pessoa2)"
   ]
  },
  {
   "cell_type": "code",
   "execution_count": 12,
   "metadata": {},
   "outputs": [],
   "source": [
    "valor_pessoa1 = float(salario_pessoa1)/(float(salario_pessoa1)+float(salario_pessoa2)) * float(despesas)\n",
    "valor_pessoa2 = float(salario_pessoa2)/(float(salario_pessoa1)+float(salario_pessoa2))* float(despesas)"
   ]
  },
  {
   "cell_type": "code",
   "execution_count": 14,
   "metadata": {},
   "outputs": [
    {
     "name": "stdout",
     "output_type": "stream",
     "text": [
      "A pessoa 1 deve pagar 13.761467889908257 reais e a pessoa 2 deve pagar 16.238532110091743 reais\n",
      "A pessoa 1 deve pagar 45.87155963302752 % as contas e a pessoa 2 deve pagar 54.12844036697248 %\n"
     ]
    }
   ],
   "source": [
    "print('A pessoa 1 deve pagar', valor_pessoa1, 'reais e a pessoa 2 deve pagar', valor_pessoa2, 'reais')\n",
    "print('A pessoa 1 deve pagar', percento_pessoa1, '% as contas e a pessoa 2 deve pagar', percento_pessoa2, '%')"
   ]
  },
  {
   "cell_type": "code",
   "execution_count": null,
   "metadata": {},
   "outputs": [],
   "source": []
  },
  {
   "cell_type": "code",
   "execution_count": null,
   "metadata": {},
   "outputs": [],
   "source": []
  },
  {
   "cell_type": "code",
   "execution_count": null,
   "metadata": {},
   "outputs": [],
   "source": []
  },
  {
   "cell_type": "code",
   "execution_count": null,
   "metadata": {},
   "outputs": [],
   "source": []
  }
 ],
 "metadata": {
  "kernelspec": {
   "display_name": "Python 3",
   "language": "python",
   "name": "python3"
  },
  "language_info": {
   "codemirror_mode": {
    "name": "ipython",
    "version": 3
   },
   "file_extension": ".py",
   "mimetype": "text/x-python",
   "name": "python",
   "nbconvert_exporter": "python",
   "pygments_lexer": "ipython3",
   "version": "3.8.5"
  }
 },
 "nbformat": 4,
 "nbformat_minor": 4
}
