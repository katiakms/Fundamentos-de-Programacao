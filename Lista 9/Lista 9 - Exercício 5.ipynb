{
 "cells": [
  {
   "cell_type": "code",
   "execution_count": 2,
   "metadata": {},
   "outputs": [],
   "source": [
    "#Lista 9\n",
    "\n",
    "#5) Faça uma função que recebe a nota de um aluno por parâmetro e retorna o seu conceito\n",
    "#como sendo um caractere, conforme a tabela abaixo"
   ]
  },
  {
   "cell_type": "code",
   "execution_count": 11,
   "metadata": {},
   "outputs": [],
   "source": [
    "def conceito(nota):\n",
    "    if (9 <= nota <= 10):\n",
    "        print('Conceito A')\n",
    "    elif (7 <= nota <= 8.9):\n",
    "        print('Conceito B')\n",
    "    elif (5 <= nota <= 6.9):\n",
    "        print('Conceito C')\n",
    "    elif (3 <= nota <= 4.9):\n",
    "        print('Conceito D')\n",
    "    elif (0 <= nota <= 2.9):\n",
    "        print('Conceito E')"
   ]
  },
  {
   "cell_type": "code",
   "execution_count": null,
   "metadata": {},
   "outputs": [],
   "source": []
  }
 ],
 "metadata": {
  "kernelspec": {
   "display_name": "Python 3",
   "language": "python",
   "name": "python3"
  },
  "language_info": {
   "codemirror_mode": {
    "name": "ipython",
    "version": 3
   },
   "file_extension": ".py",
   "mimetype": "text/x-python",
   "name": "python",
   "nbconvert_exporter": "python",
   "pygments_lexer": "ipython3",
   "version": "3.8.5"
  }
 },
 "nbformat": 4,
 "nbformat_minor": 4
}
