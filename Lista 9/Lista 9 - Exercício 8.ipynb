{
 "cells": [
  {
   "cell_type": "code",
   "execution_count": 1,
   "metadata": {},
   "outputs": [],
   "source": [
    "#Lista 9 \n",
    "\n",
    "#8) Crie uma função que receba um número inteiro de zero até 100 e que imprima na tela o número por extenso"
   ]
  },
  {
   "cell_type": "code",
   "execution_count": 87,
   "metadata": {},
   "outputs": [],
   "source": [
    "def num_para_extenso(numero):\n",
    "    unidades = [\"zero\", \"um\", \"dois\", \"três\", \"quatro\",\"cinco\", \"seis\", \"sete\", \"oito\", \"nove\"]\n",
    "    dez_vinte = [\"dez\", \"onze\", \"doze\", \"treze\", \"catorze\", \"quinze\", \"dezesseis\", \"dezessete\", \"dezoito\", \"dezenove\"]\n",
    "    dezenas = [\"dez\", \"vinte\", \"trinta\", \"quarenta\", \"cinquenta\", \"sessenta\", \"setenta\", \"oitenta\", \"noventa\"]\n",
    "    \n",
    "    if numero == 100:\n",
    "        numero_extenso = 'cem'\n",
    "    elif 0 <= numero < 10:\n",
    "        numero_extenso = unidades[numero] \n",
    "    elif 10 <= numero < 20:\n",
    "        numero_extenso = dez_vinte[numero%10] \n",
    "    else:\n",
    "        numero_caractere = str(numero)\n",
    "        primeiro_digito = dezenas[int(numero_caractere[0])-1]\n",
    "        if (numero%10 != 0):\n",
    "            ultimo_digito = ' e ' + unidades[numero%10]    \n",
    "        else:\n",
    "             ultimo_digito = ''       \n",
    "        numero_extenso = primeiro_digito + ultimo_digito\n",
    "       \n",
    "    \n",
    "    print(numero_extenso)"
   ]
  },
  {
   "cell_type": "code",
   "execution_count": null,
   "metadata": {},
   "outputs": [],
   "source": []
  },
  {
   "cell_type": "code",
   "execution_count": null,
   "metadata": {},
   "outputs": [],
   "source": []
  }
 ],
 "metadata": {
  "kernelspec": {
   "display_name": "Python 3",
   "language": "python",
   "name": "python3"
  },
  "language_info": {
   "codemirror_mode": {
    "name": "ipython",
    "version": 3
   },
   "file_extension": ".py",
   "mimetype": "text/x-python",
   "name": "python",
   "nbconvert_exporter": "python",
   "pygments_lexer": "ipython3",
   "version": "3.8.5"
  }
 },
 "nbformat": 4,
 "nbformat_minor": 4
}
