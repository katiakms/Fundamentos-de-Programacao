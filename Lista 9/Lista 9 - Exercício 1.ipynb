{
 "cells": [
  {
   "cell_type": "code",
   "execution_count": 1,
   "metadata": {},
   "outputs": [],
   "source": [
    "#Lista 9\n",
    "\n",
    "#1) Foram lidas para dois vetores as idades e alturas de 10 alunos. Faça um programa que\n",
    "#imprima a média das alturas e que determine quantos alunos possuem a altura maior que média."
   ]
  },
  {
   "cell_type": "code",
   "execution_count": 18,
   "metadata": {},
   "outputs": [],
   "source": [
    "import numpy as np"
   ]
  },
  {
   "cell_type": "code",
   "execution_count": 19,
   "metadata": {},
   "outputs": [],
   "source": [
    "def media(altura_vetor):\n",
    "    media_alturas = np.mean(altura_vetor)\n",
    "    return media_alturas\n",
    "\n",
    "def altura_maior_que_media(altura_vetor, media_alturas, n):\n",
    "    alunos_maior = 0\n",
    "    for i in range(0, n):\n",
    "        if (altura_vetor[i] > media_alturas):\n",
    "            alunos_maior = alunos_maior + 1\n",
    "    return alunos_maior"
   ]
  },
  {
   "cell_type": "code",
   "execution_count": 21,
   "metadata": {},
   "outputs": [
    {
     "name": "stdout",
     "output_type": "stream",
     "text": [
      "Digite a idade do aluno 1: 20\n",
      "Digite a altura do aluno 1: 190\n",
      "Digite a idade do aluno 2: 24\n",
      "Digite a altura do aluno 2: 160\n",
      "Digite a idade do aluno 3: 15\n",
      "Digite a altura do aluno 3: 150\n",
      "Digite a idade do aluno 4: 47\n",
      "Digite a altura do aluno 4: 180\n",
      "Média das alturas: 170.0 cm\n",
      "A quantidade de alunos com altura maior que a média é: 2\n"
     ]
    }
   ],
   "source": [
    "n = 10 #número de alunos\n",
    "idade_vetor = []\n",
    "altura_vetor = []\n",
    "\n",
    "for i in range(0,n):\n",
    "    idade = int(input('Digite a idade do aluno {}: '.format(i+1)))\n",
    "    idade_vetor.append(idade)\n",
    "    \n",
    "    altura = float(input('Digite a altura do aluno {}: '.format(i+1)))\n",
    "    altura_vetor.append(altura)\n",
    "\n",
    "media_alturas = media(altura_vetor)\n",
    "print('Média das alturas:', media_alturas, 'cm')\n",
    "\n",
    "alunos_maior = altura_maior_que_media(altura_vetor, media_alturas, n)\n",
    "print('A quantidade de alunos com altura maior que a média é:', alunos_maior)"
   ]
  },
  {
   "cell_type": "code",
   "execution_count": null,
   "metadata": {},
   "outputs": [],
   "source": []
  }
 ],
 "metadata": {
  "kernelspec": {
   "display_name": "Python 3",
   "language": "python",
   "name": "python3"
  },
  "language_info": {
   "codemirror_mode": {
    "name": "ipython",
    "version": 3
   },
   "file_extension": ".py",
   "mimetype": "text/x-python",
   "name": "python",
   "nbconvert_exporter": "python",
   "pygments_lexer": "ipython3",
   "version": "3.8.5"
  }
 },
 "nbformat": 4,
 "nbformat_minor": 4
}
