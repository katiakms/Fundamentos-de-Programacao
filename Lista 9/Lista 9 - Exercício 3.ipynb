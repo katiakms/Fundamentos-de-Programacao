{
 "cells": [
  {
   "cell_type": "code",
   "execution_count": 2,
   "metadata": {},
   "outputs": [],
   "source": [
    "#Lista 9\n",
    "\n",
    "#3) Ler dez valores inteiros. Após finalizar a leitura, imprima-os na ordem inversa em que foram\n",
    "#inseridos no vetor"
   ]
  },
  {
   "cell_type": "code",
   "execution_count": 18,
   "metadata": {},
   "outputs": [],
   "source": [
    "def ordem_inversa(valor_vetor,n):\n",
    "    vetor_inverso = []\n",
    "    \n",
    "    for i in range(0,n):\n",
    "        valor_inverso = valor_vetor[n-1-i]\n",
    "        vetor_inverso.append(valor_inverso)\n",
    "        \n",
    "    return vetor_inverso"
   ]
  },
  {
   "cell_type": "code",
   "execution_count": 19,
   "metadata": {},
   "outputs": [
    {
     "name": "stdout",
     "output_type": "stream",
     "text": [
      "Digite um valor: 1\n",
      "Digite um valor: 2\n",
      "Digite um valor: 3\n",
      "Digite um valor: 4\n",
      "Digite um valor: 5\n",
      "Digite um valor: 6\n",
      "Digite um valor: 7\n",
      "Digite um valor: 8\n",
      "Digite um valor: 9\n",
      "Digite um valor: 10\n",
      "[10, 9, 8, 7, 6, 5, 4, 3, 2, 1]\n"
     ]
    }
   ],
   "source": [
    "n = 10\n",
    "valor_vetor = []\n",
    "\n",
    "for i in range(0,n):\n",
    "    valor = int(input('Digite um valor: '))\n",
    "    valor_vetor.append(valor)\n",
    "    \n",
    "vetor_inverso = ordem_inversa(valor_vetor,n)\n",
    "print(vetor_inverso)"
   ]
  },
  {
   "cell_type": "code",
   "execution_count": null,
   "metadata": {},
   "outputs": [],
   "source": []
  },
  {
   "cell_type": "code",
   "execution_count": null,
   "metadata": {},
   "outputs": [],
   "source": []
  }
 ],
 "metadata": {
  "kernelspec": {
   "display_name": "Python 3",
   "language": "python",
   "name": "python3"
  },
  "language_info": {
   "codemirror_mode": {
    "name": "ipython",
    "version": 3
   },
   "file_extension": ".py",
   "mimetype": "text/x-python",
   "name": "python",
   "nbconvert_exporter": "python",
   "pygments_lexer": "ipython3",
   "version": "3.8.5"
  }
 },
 "nbformat": 4,
 "nbformat_minor": 4
}
