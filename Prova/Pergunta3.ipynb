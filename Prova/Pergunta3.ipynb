{
 "cells": [
  {
   "cell_type": "code",
   "execution_count": 1,
   "metadata": {},
   "outputs": [],
   "source": [
    "#Prova 1 - Cíntia\n",
    "\n",
    "#3)Crie uma função que receba por parâmetro três valores inteiros positivos: início, fim e num.\n",
    "#A função deve imprimir na tela todos os números pares menores do que o num e todos os ímpares\n",
    "#maiores do que num do início ao fim do intervalo. Num não deve ser impresso.\n",
    "\n",
    "#Exemplo:\n",
    "\n",
    "#Se for informado: paresImpares(10, 30, 20), \n",
    "#o programa deve imprimir na tela: 10, 12, 14, 16, 18, 21, 23, 25, 27, 29."
   ]
  },
  {
   "cell_type": "code",
   "execution_count": 14,
   "metadata": {},
   "outputs": [],
   "source": [
    "def paresImpares(inicio, fim, num):\n",
    "    \n",
    "    cont = inicio #contador que vai ser igual o numero inicial do intervalo\n",
    "    \n",
    "    while inicio <= cont < num: #enquanto o contador estiver entre o valor inicial e num, está no loop\n",
    "        if (cont%2 == 0): #se o número for par, imprime na tela\n",
    "            print(cont)\n",
    "        cont = cont+1 #soma um ao contador\n",
    "        \n",
    "    while num <= cont <= fim: #enquanto o contador estiver entre o num e o valor final, está no loop\n",
    "        if (cont%2 != 0): #se o número for ímpar, imprime na tela\n",
    "            print(cont)\n",
    "        cont = cont+1 #soma um ao contador"
   ]
  },
  {
   "cell_type": "code",
   "execution_count": null,
   "metadata": {},
   "outputs": [],
   "source": []
  }
 ],
 "metadata": {
  "kernelspec": {
   "display_name": "Python 3",
   "language": "python",
   "name": "python3"
  },
  "language_info": {
   "codemirror_mode": {
    "name": "ipython",
    "version": 3
   },
   "file_extension": ".py",
   "mimetype": "text/x-python",
   "name": "python",
   "nbconvert_exporter": "python",
   "pygments_lexer": "ipython3",
   "version": "3.8.5"
  }
 },
 "nbformat": 4,
 "nbformat_minor": 4
}
