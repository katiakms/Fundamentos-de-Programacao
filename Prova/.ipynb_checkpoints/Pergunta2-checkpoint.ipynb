{
 "cells": [
  {
   "cell_type": "code",
   "execution_count": 1,
   "metadata": {},
   "outputs": [],
   "source": [
    "#Prova 1 - Cíntia\n",
    "\n",
    "#2) Uma empresa de logística cobra o frete de acordo com o volume da embalagem, o peso da encomenda e a \n",
    "#distância percorrida entre origem e destino. Faça um programa que solicita ao usuário a base, altura e \n",
    "#profundidade de um pacote (cm), o peso total (kg) e a distância percorrida (km). \n",
    "#Calcule e mostre na tela o volume da embalagem (cm3) e o valor do frete (R$). \n",
    "#O valor do frete é dado pela equação volume * peso * distância / 200000.\n",
    "\n",
    "#O programa deve rodar enquanto o usuário não dizer que quer sair.\n",
    "#Exemplo:\n",
    "\n",
    "#Informe a base:\n",
    "#Informe a altura:\n",
    "#Informe a profundidade:\n",
    "#Informe o peso:\n",
    "#Informe a distância percorrida:\n",
    "\n",
    "#O volume da embalagem é de XX cm³\n",
    "#O valor do frete da encomenda é de R$ XX\n",
    "\n",
    "#Deseja calcular outra encomenda? (S/N):"
   ]
  },
  {
   "cell_type": "code",
   "execution_count": 5,
   "metadata": {},
   "outputs": [
    {
     "name": "stdout",
     "output_type": "stream",
     "text": [
      "Informe a base em cm: 10\n",
      "Informe a altura em cm: 10\n",
      "Informe a profundidade em cm: 10\n",
      "Informe o peso total em kg: 10\n",
      "Informe a distância percorrida em km: 1000\n",
      "\n",
      "O volume da embalagem é de 1000.0 cm³\n",
      "O valor do frete da encomenda é de R$ 50.0\n",
      "Deseja calcular outra encomenda? (S/N): S\n",
      "Informe a base em cm: 10\n",
      "Informe a altura em cm: 10\n",
      "Informe a profundidade em cm: 10\n",
      "Informe o peso total em kg: 10\n",
      "Informe a distância percorrida em km: 10\n",
      "\n",
      "O volume da embalagem é de 1000.0 cm³\n",
      "O valor do frete da encomenda é de R$ 0.5\n",
      "Deseja calcular outra encomenda? (S/N): N\n"
     ]
    }
   ],
   "source": [
    "while True:\n",
    "\n",
    "    base = float(input('Informe a base em cm: '))\n",
    "    altura = float(input('Informe a altura em cm: '))\n",
    "    profundidade = float(input('Informe a profundidade em cm: '))\n",
    "    peso = float(input('Informe o peso total em kg: '))\n",
    "    distancia = float(input('Informe a distância percorrida em km: '))\n",
    "\n",
    "    volume = base*altura*profundidade #calcula o volume em cm³\n",
    "    frete = (volume*peso*distancia)/200000 #calcula o frete\n",
    "\n",
    "    print('\\nO volume da embalagem é de', volume,'cm³')\n",
    "    print('O valor do frete da encomenda é de R$', frete)\n",
    "\n",
    "    outra_encomenda = input('Deseja calcular outra encomenda? (S/N): ')\n",
    "\n",
    "    if outra_encomenda == 'N':\n",
    "        break #se a resposta for não, termina o programa"
   ]
  }
 ],
 "metadata": {
  "kernelspec": {
   "display_name": "Python 3",
   "language": "python",
   "name": "python3"
  },
  "language_info": {
   "codemirror_mode": {
    "name": "ipython",
    "version": 3
   },
   "file_extension": ".py",
   "mimetype": "text/x-python",
   "name": "python",
   "nbconvert_exporter": "python",
   "pygments_lexer": "ipython3",
   "version": "3.8.5"
  }
 },
 "nbformat": 4,
 "nbformat_minor": 4
}
