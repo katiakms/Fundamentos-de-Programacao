{
 "cells": [
  {
   "cell_type": "code",
   "execution_count": 2,
   "metadata": {},
   "outputs": [],
   "source": [
    "#Prova 1\n",
    "\n",
    "#Foi feita uma pesquisa entre os habitantes de uma região e coletados os dados de altura, a idade e sexo das pessoas.\n",
    "#Faça um programa que leia 50 dados diferentes e, ao final, informe: \n",
    "\n",
    "#A.a maior e a menor altura encontradas \n",
    "#B.a média de altura das mulheres \n",
    "#C.a média de idade da população \n",
    "#D.o percentual de crianças até 12 anos na população \n",
    "#E.a altura e a idade do homem mais baixo "
   ]
  },
  {
   "cell_type": "code",
   "execution_count": 28,
   "metadata": {},
   "outputs": [
    {
     "name": "stdout",
     "output_type": "stream",
     "text": [
      "Digite a altura em cm do entrevistado: 160\n",
      "Digite a idade do entrevistado: 15\n",
      "Digite o sexo do entrevistado (F = feminino, M = masculino): F\n",
      "Digite a altura em cm do entrevistado: 180\n",
      "Digite a idade do entrevistado: 5\n",
      "Digite o sexo do entrevistado (F = feminino, M = masculino): F\n",
      "Digite a altura em cm do entrevistado: 140\n",
      "Digite a idade do entrevistado: 2\n",
      "Digite o sexo do entrevistado (F = feminino, M = masculino): M\n",
      "Digite a altura em cm do entrevistado: 190\n",
      "Digite a idade do entrevistado: 20\n",
      "Digite o sexo do entrevistado (F = feminino, M = masculino): M\n",
      "\n",
      "A maior altura encontrada: 190.0 cm\n",
      "A menor altura encontrada: 140.0 cm\n",
      "A média de altura das mulheres: 170.0 cm\n",
      "A média de idade da população: 10.5\n",
      "O percentual de crianças até 12 anos na população: 50.0 %\n",
      "A altura e a idade do homem mais baixo: 140.0 cm 2 anos\n"
     ]
    }
   ],
   "source": [
    "cont = 0 \n",
    "total_pessoas = 4 #número de pessoas entrevistadas\n",
    "criancas = 0 #contador numero de crianças\n",
    "mulheres = 0 #contador numero de mulheres\n",
    "homens = 0 #contador numero de homens\n",
    "\n",
    "altura_vetor = [] #vetor para guardar todas as alturas\n",
    "altura_mulheres = [] #vetor para guardar as alturas das mulheres\n",
    "altura_homens = [] #vetor para guardar as alturas dos homens\n",
    "\n",
    "idade_vetor = [] #vetor para guardar todas as idades\n",
    "idade_homens = [] #vetor para guardar idade dos homens \n",
    "\n",
    "\n",
    "while cont < total_pessoas:\n",
    "    altura = float(input('Digite a altura em cm do entrevistado: '))\n",
    "    idade = int(input('Digite a idade do entrevistado: '))\n",
    "    sexo = input('Digite o sexo do entrevistado (F = feminino, M = masculino): ')\n",
    "    \n",
    "    altura_vetor.append(altura) #vetor com todas as alturas\n",
    "    idade_vetor.append(idade) #vetor com todas as idades  \n",
    "    \n",
    "    if sexo == 'F':\n",
    "        altura_mulheres.append(altura) #se for mulher, salva altura no vetor\n",
    "        mulheres = mulheres+1 #conta numero de mulheres\n",
    "    else:\n",
    "        altura_homens.append(altura) #se for homem, salva altura\n",
    "        idade_homens.append(idade) #se for homem, salva idade\n",
    "        homens = homens + 1 #conta numero de homens\n",
    "    \n",
    "    if idade < 12:\n",
    "        criancas = criancas + 1 #contagem de crianças até 12 anos \n",
    "    \n",
    "    cont = cont+1\n",
    "\n",
    "maior_altura = max(altura_vetor) #altura máxima\n",
    "menor_altura = min(altura_vetor) #altura mínima\n",
    "\n",
    "if mulheres != 0: #se o numero de mulheres não for zero, calcula a media das alturas\n",
    "    media_altura_mulheres = sum(altura_mulheres)/mulheres\n",
    "else:\n",
    "    media_altura_mulheres = 0\n",
    "    \n",
    "media_idade = sum(idade_vetor)/total_pessoas\n",
    "\n",
    "if criancas != 0: #se o numero de crianças não for zero, calcula a porcentagem de crianças na população\n",
    "    percentual_criancas = criancas/total_pessoas * 100\n",
    "else:\n",
    "    percentual_criancas = 0\n",
    "\n",
    "if homens != 0: #se o numero de homens não for zero, acha a idade e altura do homem mais baixo\n",
    "    homem_baixo = min(altura_homens)\n",
    "    index_homem_baixo = altura_homens.index(homem_baixo)\n",
    "    idade_homem_baixo = idade_homens[index_homem_baixo]\n",
    "else:\n",
    "    homem_baixo = 0\n",
    "    idade_homem_baixo = 0\n",
    "\n",
    "    \n",
    "print('\\nA maior altura encontrada:', maior_altura, 'cm')\n",
    "print('A menor altura encontrada:', menor_altura, 'cm')\n",
    "print('A média de altura das mulheres:', media_altura_mulheres, 'cm')\n",
    "print('A média de idade da população:', media_idade)\n",
    "print('O percentual de crianças até 12 anos na população:', percentual_criancas, '%')\n",
    "print('A altura e a idade do homem mais baixo:', homem_baixo, 'cm,', idade_homem_baixo, 'anos')"
   ]
  },
  {
   "cell_type": "code",
   "execution_count": null,
   "metadata": {},
   "outputs": [],
   "source": []
  },
  {
   "cell_type": "code",
   "execution_count": null,
   "metadata": {},
   "outputs": [],
   "source": []
  },
  {
   "cell_type": "code",
   "execution_count": null,
   "metadata": {},
   "outputs": [],
   "source": []
  }
 ],
 "metadata": {
  "kernelspec": {
   "display_name": "Python 3",
   "language": "python",
   "name": "python3"
  },
  "language_info": {
   "codemirror_mode": {
    "name": "ipython",
    "version": 3
   },
   "file_extension": ".py",
   "mimetype": "text/x-python",
   "name": "python",
   "nbconvert_exporter": "python",
   "pygments_lexer": "ipython3",
   "version": "3.8.5"
  }
 },
 "nbformat": 4,
 "nbformat_minor": 4
}
