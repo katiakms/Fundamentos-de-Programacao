{
 "cells": [
  {
   "cell_type": "code",
   "execution_count": null,
   "metadata": {},
   "outputs": [],
   "source": [
    "# Prova 1 - Cíntia\n",
    "\n",
    "#4) Crie uma função que receba dois números inteiros por parâmetro, n1 e n2. intervalo(n1,n2)\n",
    "#A função deve imprimir na tela uma sequência de 5 números fracionários partindo de n1 até atingir n2, \n",
    "#com intervalos regulares.\n",
    "\n",
    "#A sequência pode ser tanto crescente quanto decrescente. \n",
    "\n",
    "#Exemplos:\n",
    "#intervalo(3, 12) Sequência impressa na tela: 3,00 5,25 7,50 9,75 12,00\n",
    "#intervalo(35, 18) Sequência impressa na tela: 35,00 30,75 26,50 22,25 18,00"
   ]
  },
  {
   "cell_type": "code",
   "execution_count": 42,
   "metadata": {},
   "outputs": [],
   "source": [
    "def intervalo(n1, n2):\n",
    "    quant_num = 5 #quantidade de numeros no intervalo\n",
    "    num_final = n1 #inicial a variável igual ao primeiro numero do intervalo\n",
    "    \n",
    "    print(n1) #imprime o primeiro valor da sequência\n",
    "    interv = (n2 - n1)/(quant_num-1) #calcula o intervalo igual entre os números\n",
    "    \n",
    "    for i in range(1,quant_num): #loop de 1 até 5 para imprimir os outros números na tela\n",
    "        num_final = num_final+interv #soma o num_final com ele mesmo mais o intervalo\n",
    "        print(num_final) #imprime o próximo valor da sequência\n"
   ]
  },
  {
   "cell_type": "code",
   "execution_count": null,
   "metadata": {},
   "outputs": [],
   "source": []
  },
  {
   "cell_type": "code",
   "execution_count": null,
   "metadata": {},
   "outputs": [],
   "source": []
  },
  {
   "cell_type": "code",
   "execution_count": null,
   "metadata": {},
   "outputs": [],
   "source": []
  }
 ],
 "metadata": {
  "kernelspec": {
   "display_name": "Python 3",
   "language": "python",
   "name": "python3"
  },
  "language_info": {
   "codemirror_mode": {
    "name": "ipython",
    "version": 3
   },
   "file_extension": ".py",
   "mimetype": "text/x-python",
   "name": "python",
   "nbconvert_exporter": "python",
   "pygments_lexer": "ipython3",
   "version": "3.8.5"
  }
 },
 "nbformat": 4,
 "nbformat_minor": 4
}
