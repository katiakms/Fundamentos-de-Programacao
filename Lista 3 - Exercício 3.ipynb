{
 "cells": [
  {
   "cell_type": "code",
   "execution_count": 1,
   "metadata": {},
   "outputs": [],
   "source": [
    "#Lista de exercícios 3\n",
    "\n",
    "#3) A fábrica de sucos Suco Meu vende seu produto em três formatos: garrafas de 330 ml,\n",
    "#de 750 ml e de 1,3 litros\n",
    "#Se um comerticante compra uma determinada quantidade de cada formato, faça um algoritmo para calcular\n",
    "#quantos litros de suco ele comprou"
   ]
  },
  {
   "cell_type": "code",
   "execution_count": 1,
   "metadata": {},
   "outputs": [
    {
     "name": "stdout",
     "output_type": "stream",
     "text": [
      "Entre o número de garrafas de 330 ml: 5\n",
      "Entre o número de garrafas de 750 ml: 2\n",
      "Entre o número de garrafas de 1,3 l: 1\n",
      "A quantidade de litros comprada foi de: 4.45\n"
     ]
    }
   ],
   "source": [
    "num_garrafa_330 = input('Entre o número de garrafas de 330 ml: ')\n",
    "num_garrafa_750 = input('Entre o número de garrafas de 750 ml: ')\n",
    "num_garrafa_13 = input('Entre o número de garrafas de 1,3 l: ')\n",
    "\n",
    "litros_garrafas_330 = int(num_garrafa_330)*330/1000\n",
    "litros_garrafas_750 = int(num_garrafa_750)*750/1000\n",
    "litros_garrafas_13 = int(num_garrafa_13)*1.3\n",
    "\n",
    "litros = litros_garrafas_330 + litros_garrafas_750 + litros_garrafas_13\n",
    "\n",
    "print('A quantidade de litros comprada foi de:', litros)"
   ]
  },
  {
   "cell_type": "code",
   "execution_count": null,
   "metadata": {},
   "outputs": [],
   "source": []
  },
  {
   "cell_type": "code",
   "execution_count": null,
   "metadata": {},
   "outputs": [],
   "source": []
  }
 ],
 "metadata": {
  "kernelspec": {
   "display_name": "Python 3",
   "language": "python",
   "name": "python3"
  },
  "language_info": {
   "codemirror_mode": {
    "name": "ipython",
    "version": 3
   },
   "file_extension": ".py",
   "mimetype": "text/x-python",
   "name": "python",
   "nbconvert_exporter": "python",
   "pygments_lexer": "ipython3",
   "version": "3.8.5"
  }
 },
 "nbformat": 4,
 "nbformat_minor": 4
}
