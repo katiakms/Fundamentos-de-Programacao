{
 "cells": [
  {
   "cell_type": "code",
   "execution_count": 1,
   "metadata": {},
   "outputs": [],
   "source": [
    "#Lista 6\n",
    "\n",
    "#2) Solicitar um caractere, verificar se é uma letra (‘a até z’ e ‘A até Z’) e\n",
    "#imprimir se é uma letra minúscula, maiúscula ou se é outro caractere"
   ]
  },
  {
   "cell_type": "code",
   "execution_count": 10,
   "metadata": {},
   "outputs": [
    {
     "name": "stdout",
     "output_type": "stream",
     "text": [
      "Digite um caractere: cbvbv\n",
      "Não é uma letra\n"
     ]
    }
   ],
   "source": [
    "char = input('Digite um caractere: ')\n",
    "\n",
    "letras_min = 'abcdefghijklmnopqrstuvwxyz'\n",
    "letras_mai = 'ABCDEFGHIJKLMNOPQRSTUVWXYZ'\n",
    "\n",
    "if (char in letras_min):\n",
    "    print('Letra minúscula')\n",
    "elif (char in letras_mai):\n",
    "    print('Letra maiúscula')\n",
    "else:\n",
    "    print('Não é uma letra')"
   ]
  },
  {
   "cell_type": "code",
   "execution_count": null,
   "metadata": {},
   "outputs": [],
   "source": []
  },
  {
   "cell_type": "code",
   "execution_count": null,
   "metadata": {},
   "outputs": [],
   "source": []
  }
 ],
 "metadata": {
  "kernelspec": {
   "display_name": "Python 3",
   "language": "python",
   "name": "python3"
  },
  "language_info": {
   "codemirror_mode": {
    "name": "ipython",
    "version": 3
   },
   "file_extension": ".py",
   "mimetype": "text/x-python",
   "name": "python",
   "nbconvert_exporter": "python",
   "pygments_lexer": "ipython3",
   "version": "3.8.5"
  }
 },
 "nbformat": 4,
 "nbformat_minor": 4
}
