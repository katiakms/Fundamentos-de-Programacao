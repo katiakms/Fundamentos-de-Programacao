{
 "cells": [
  {
   "cell_type": "code",
   "execution_count": null,
   "metadata": {},
   "outputs": [],
   "source": [
    "#Lista 6\n",
    "\n",
    "#1) Solicitar um número T representando uma temperatura em graus centrígrados.\n",
    "#Imprimir na tela se nessa temperatura a água se encontra em estado sólido, líquido ou gasoso"
   ]
  },
  {
   "cell_type": "code",
   "execution_count": 7,
   "metadata": {},
   "outputs": [
    {
     "name": "stdout",
     "output_type": "stream",
     "text": [
      "Digite a temperatura da água em graus centígrados: 12387\n",
      "Água em estado gasoso\n"
     ]
    }
   ],
   "source": [
    "temp = input('Digite a temperatura da água em graus centígrados: ')\n",
    "\n",
    "if (int(temp) < 0):\n",
    "    print('Água em estado sólido')\n",
    "elif (int(temp) >= 0 and int(temp) < 100):\n",
    "    print('Água em estado líquido')\n",
    "else:\n",
    "    print('Água em estado gasoso')"
   ]
  },
  {
   "cell_type": "code",
   "execution_count": null,
   "metadata": {},
   "outputs": [],
   "source": []
  }
 ],
 "metadata": {
  "kernelspec": {
   "display_name": "Python 3",
   "language": "python",
   "name": "python3"
  },
  "language_info": {
   "codemirror_mode": {
    "name": "ipython",
    "version": 3
   },
   "file_extension": ".py",
   "mimetype": "text/x-python",
   "name": "python",
   "nbconvert_exporter": "python",
   "pygments_lexer": "ipython3",
   "version": "3.8.5"
  }
 },
 "nbformat": 4,
 "nbformat_minor": 4
}
