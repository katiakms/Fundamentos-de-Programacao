{
 "cells": [
  {
   "cell_type": "code",
   "execution_count": 3,
   "metadata": {},
   "outputs": [],
   "source": [
    "#Lista 6\n",
    "\n",
    "#6)Construa um algoritmo que, tendo como dados de entrada dois pontos quaisquer no\n",
    "#plano, P1(x1,y1) e P2(x2,y2), calcule e escreva na tela a distância “d” entre eles. \n",
    "#A fórmula que efetua tal cálculo é: 𝑑𝑑 = sqrt(𝑥𝑥2 − 𝑥𝑥1)2 + (𝑦𝑦2 − 𝑦𝑦1)"
   ]
  },
  {
   "cell_type": "code",
   "execution_count": 7,
   "metadata": {},
   "outputs": [
    {
     "name": "stdout",
     "output_type": "stream",
     "text": [
      "Entre o valor de x do ponto 1: 1\n",
      "Entre o valor de y do ponto 1: 5\n",
      "Entre o valor de x do ponto 2: 8\n",
      "Entre o valor de y do ponto 2: 3\n",
      "A distância entre os pontos é: 7.280109889280518\n"
     ]
    }
   ],
   "source": [
    "import numpy as np\n",
    "\n",
    "x1 = input('Entre o valor de x do ponto 1: ')\n",
    "y1 = input('Entre o valor de y do ponto 1: ')\n",
    "x2 = input('Entre o valor de x do ponto 2: ')\n",
    "y2 = input('Entre o valor de y do ponto 2: ')\n",
    "\n",
    "distancia = np.sqrt((float(x2)-float(x1))**2 + (float(y2)-float(y1))**2)\n",
    "\n",
    "print('A distância entre os pontos é:', distancia)"
   ]
  },
  {
   "cell_type": "code",
   "execution_count": null,
   "metadata": {},
   "outputs": [],
   "source": []
  }
 ],
 "metadata": {
  "kernelspec": {
   "display_name": "Python 3",
   "language": "python",
   "name": "python3"
  },
  "language_info": {
   "codemirror_mode": {
    "name": "ipython",
    "version": 3
   },
   "file_extension": ".py",
   "mimetype": "text/x-python",
   "name": "python",
   "nbconvert_exporter": "python",
   "pygments_lexer": "ipython3",
   "version": "3.8.5"
  }
 },
 "nbformat": 4,
 "nbformat_minor": 4
}
