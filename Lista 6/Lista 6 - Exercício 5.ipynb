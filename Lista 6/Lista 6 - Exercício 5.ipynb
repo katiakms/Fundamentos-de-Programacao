{
 "cells": [
  {
   "cell_type": "code",
   "execution_count": 1,
   "metadata": {},
   "outputs": [],
   "source": [
    "#Lista 6\n",
    "\n",
    "#5) Utilizando a equação do MRU (distância = velocidade * tempo), desenvolva um\n",
    "#programa que solicite os três dados, mas receba apenas dois e calcule o terceiro \n",
    "#Os dados devem ser números fracionários, e o dado a ser calculado deve ser informado como zero"
   ]
  },
  {
   "cell_type": "code",
   "execution_count": 4,
   "metadata": {},
   "outputs": [
    {
     "name": "stdout",
     "output_type": "stream",
     "text": [
      "Cálculo da equação MRU. O valor a ser calculado deve ser informado como zero\n",
      "Entre a distancia em metros: 12.2\n",
      "Entre a velocidade em metros/segundo: 15.\n",
      "Entre o tempo em segundos: 0\n",
      "O tempo é 0.8133333333333332 s\n"
     ]
    }
   ],
   "source": [
    "print('Cálculo da equação MRU. O valor a ser calculado deve ser informado como zero')\n",
    "distancia = input('Entre a distancia em metros: ')\n",
    "velocidade = input('Entre a velocidade em metros/segundo: ')\n",
    "tempo = input('Entre o tempo em segundos: ')\n",
    "\n",
    "if (float(distancia) == 0):\n",
    "    dist = float(velocidade) * float(tempo)\n",
    "    print('A distância é', dist, 'm')\n",
    "elif (float(velocidade) == 0):\n",
    "    vel = float(distancia)/float(tempo)\n",
    "    print('A velocidade é', vel,'m/s')\n",
    "elif (float(tempo) == 0):\n",
    "    temp = float(distancia)/float(velocidade)\n",
    "    print('O tempo é', temp,'s')"
   ]
  },
  {
   "cell_type": "code",
   "execution_count": null,
   "metadata": {},
   "outputs": [],
   "source": []
  }
 ],
 "metadata": {
  "kernelspec": {
   "display_name": "Python 3",
   "language": "python",
   "name": "python3"
  },
  "language_info": {
   "codemirror_mode": {
    "name": "ipython",
    "version": 3
   },
   "file_extension": ".py",
   "mimetype": "text/x-python",
   "name": "python",
   "nbconvert_exporter": "python",
   "pygments_lexer": "ipython3",
   "version": "3.8.5"
  }
 },
 "nbformat": 4,
 "nbformat_minor": 4
}
