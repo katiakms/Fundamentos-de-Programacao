{
 "cells": [
  {
   "cell_type": "code",
   "execution_count": 1,
   "metadata": {},
   "outputs": [],
   "source": [
    "#Lista 6\n",
    "\n",
    "#4) Faça um algoritmo que receba como entrada um horário inicial e um horário final no formato “hh\n",
    "#mm ss”. Calcule o intervalo de tempo entre essas duas horas e apresente na tela no formato “hh mm ss”"
   ]
  },
  {
   "cell_type": "code",
   "execution_count": 51,
   "metadata": {},
   "outputs": [
    {
     "name": "stdout",
     "output_type": "stream",
     "text": [
      "Digite o horário inicial no formato hh mm ss: 24 00 00\n",
      "Digite o horário final no formato hh mm ss: 12 00 00\n",
      "O intervalo entre as horas é: 12 00 00\n"
     ]
    }
   ],
   "source": [
    "horario_inicial = input('Digite o horário inicial no formato hh mm ss: ')\n",
    "horario_final = input('Digite o horário final no formato hh mm ss: ')\n",
    "\n",
    "hora1 = horario_inicial[0:2]\n",
    "minutos1 = horario_inicial[3:5]\n",
    "segundos1 = horario_inicial[6:8]\n",
    "\n",
    "hora2 = horario_final[0:2]\n",
    "minutos2 = horario_final[3:5]\n",
    "segundos2 = horario_final[6:8]\n",
    "\n",
    "hora_final = abs(int(hora2) - int(hora1))\n",
    "minutos_final = abs(int(minutos2) - int(minutos1))\n",
    "segundos_final = abs(int(segundos2) - int(segundos1))\n",
    "\n",
    "print('O intervalo entre as horas é: {:02d}'.format(hora_final), '{:02d}'.format(minutos_final), '{:02d}'.format(segundos_final))"
   ]
  },
  {
   "cell_type": "code",
   "execution_count": null,
   "metadata": {},
   "outputs": [],
   "source": []
  },
  {
   "cell_type": "code",
   "execution_count": null,
   "metadata": {},
   "outputs": [],
   "source": []
  },
  {
   "cell_type": "code",
   "execution_count": null,
   "metadata": {},
   "outputs": [],
   "source": []
  },
  {
   "cell_type": "code",
   "execution_count": null,
   "metadata": {},
   "outputs": [],
   "source": []
  },
  {
   "cell_type": "code",
   "execution_count": null,
   "metadata": {},
   "outputs": [],
   "source": []
  }
 ],
 "metadata": {
  "kernelspec": {
   "display_name": "Python 3",
   "language": "python",
   "name": "python3"
  },
  "language_info": {
   "codemirror_mode": {
    "name": "ipython",
    "version": 3
   },
   "file_extension": ".py",
   "mimetype": "text/x-python",
   "name": "python",
   "nbconvert_exporter": "python",
   "pygments_lexer": "ipython3",
   "version": "3.8.5"
  }
 },
 "nbformat": 4,
 "nbformat_minor": 4
}
