{
 "cells": [
  {
   "cell_type": "code",
   "execution_count": 1,
   "metadata": {},
   "outputs": [],
   "source": [
    "#Lista 6\n",
    "\n",
    "#3) Solicitar duas letras \"L1\" e \"L2\" e imprimir na tela se a letra \"L1\" é igual,\n",
    "#antecessora ou sucessora da letra \"L2\""
   ]
  },
  {
   "cell_type": "code",
   "execution_count": 25,
   "metadata": {},
   "outputs": [
    {
     "name": "stdout",
     "output_type": "stream",
     "text": [
      "Digite a letra 1: z\n",
      "Digite a letra 2: v\n",
      "A letra 1 é sucessora\n"
     ]
    }
   ],
   "source": [
    "letra1 = input('Digite a letra 1: ')\n",
    "letra2 = input('Digite a letra 2: ')\n",
    "\n",
    "letras = 'abcdefghijklmnopqrstuvxwyz' #todas as letras do alfabeto\n",
    "indice1 = letras.index(str(letra1)) #verifica em que posição da lista \"letras\" a letra 1 está\n",
    "indice2 = letras.index(str(letra2)) #verifica em que posição da lista \"letras\" a letra 2 está\n",
    "\n",
    "if (indice1 == indice2): #se as duas letras estiverem na mesma posição são iguais\n",
    "    print('As letras são iguais')\n",
    "elif (indice1 < indice2): #se a posição da letra 1 é menor do que a da letra 2ela vem antes \n",
    "    print('A letra 1 é antecessora')\n",
    "elif (indice1 > indice2): #se a posição da letra 1 é maior que a da letra 2 ela vem depois\n",
    "    print('A letra 1 é sucessora')"
   ]
  },
  {
   "cell_type": "code",
   "execution_count": null,
   "metadata": {},
   "outputs": [],
   "source": []
  },
  {
   "cell_type": "code",
   "execution_count": null,
   "metadata": {},
   "outputs": [],
   "source": []
  }
 ],
 "metadata": {
  "kernelspec": {
   "display_name": "Python 3",
   "language": "python",
   "name": "python3"
  },
  "language_info": {
   "codemirror_mode": {
    "name": "ipython",
    "version": 3
   },
   "file_extension": ".py",
   "mimetype": "text/x-python",
   "name": "python",
   "nbconvert_exporter": "python",
   "pygments_lexer": "ipython3",
   "version": "3.8.5"
  }
 },
 "nbformat": 4,
 "nbformat_minor": 4
}
