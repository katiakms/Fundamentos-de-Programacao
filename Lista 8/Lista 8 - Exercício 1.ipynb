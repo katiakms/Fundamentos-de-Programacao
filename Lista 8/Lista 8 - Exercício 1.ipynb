{
 "cells": [
  {
   "cell_type": "code",
   "execution_count": 1,
   "metadata": {},
   "outputs": [],
   "source": [
    "#Lista 8\n",
    "\n",
    "#1) Faça um programa que exiba o seguinte menu na tela. O usuário deve digitar uma das opções do menu.\n",
    "#Se o usuário digitar uma opção inválida, avisar que é inválida e mostrar novamente o menu. \n",
    "#Se o usuário digitar '1', então você deve imprimir a mensagem \"Executando opção 1\", se for '2' ou '3', da mesma maneira \n",
    "#(só mude pelo número escolhido). Depois disso, volte a mostrar o menu para o usuário.\n",
    "#O menu deve ser mostrado novamente após cada opção ser realizada. \n",
    "#O programa só deve acabar quando o usuário digitar a opção '4'."
   ]
  },
  {
   "cell_type": "code",
   "execution_count": 3,
   "metadata": {},
   "outputs": [
    {
     "name": "stdout",
     "output_type": "stream",
     "text": [
      "Programa com Menu: \n",
      " 1 - Fazer coisa 1 \n",
      " 2 - Fazer coisa 2 \n",
      " 3 - Fazer coisa 3 \n",
      " 4 - Sair do programa\n",
      "Digite uma opção: 1\n",
      "Executando opção 1\n",
      "Programa com Menu: \n",
      " 1 - Fazer coisa 1 \n",
      " 2 - Fazer coisa 2 \n",
      " 3 - Fazer coisa 3 \n",
      " 4 - Sair do programa\n",
      "Digite uma opção: 2\n",
      "Executando opção 2\n",
      "Programa com Menu: \n",
      " 1 - Fazer coisa 1 \n",
      " 2 - Fazer coisa 2 \n",
      " 3 - Fazer coisa 3 \n",
      " 4 - Sair do programa\n",
      "Digite uma opção: 3\n",
      "Executando opção 3\n",
      "Programa com Menu: \n",
      " 1 - Fazer coisa 1 \n",
      " 2 - Fazer coisa 2 \n",
      " 3 - Fazer coisa 3 \n",
      " 4 - Sair do programa\n",
      "Digite uma opção: 3\n",
      "Executando opção 3\n",
      "Programa com Menu: \n",
      " 1 - Fazer coisa 1 \n",
      " 2 - Fazer coisa 2 \n",
      " 3 - Fazer coisa 3 \n",
      " 4 - Sair do programa\n",
      "Digite uma opção: 1\n",
      "Executando opção 1\n",
      "Programa com Menu: \n",
      " 1 - Fazer coisa 1 \n",
      " 2 - Fazer coisa 2 \n",
      " 3 - Fazer coisa 3 \n",
      " 4 - Sair do programa\n",
      "Digite uma opção: 2\n",
      "Executando opção 2\n",
      "Programa com Menu: \n",
      " 1 - Fazer coisa 1 \n",
      " 2 - Fazer coisa 2 \n",
      " 3 - Fazer coisa 3 \n",
      " 4 - Sair do programa\n",
      "Digite uma opção: 4\n"
     ]
    }
   ],
   "source": [
    "while (True):\n",
    "\n",
    "    print('Programa com Menu: \\n 1 - Fazer coisa 1 \\n 2 - Fazer coisa 2 \\n 3 - Fazer coisa 3 \\n 4 - Sair do programa')\n",
    "    op = int(input('Digite uma opção: '))\n",
    "\n",
    "    if (op == 1) or (op == 3) or (op == 2):\n",
    "        print('Executando opção', op)\n",
    "    elif (op == 4):\n",
    "        break"
   ]
  }
 ],
 "metadata": {
  "kernelspec": {
   "display_name": "Python 3",
   "language": "python",
   "name": "python3"
  },
  "language_info": {
   "codemirror_mode": {
    "name": "ipython",
    "version": 3
   },
   "file_extension": ".py",
   "mimetype": "text/x-python",
   "name": "python",
   "nbconvert_exporter": "python",
   "pygments_lexer": "ipython3",
   "version": "3.8.5"
  }
 },
 "nbformat": 4,
 "nbformat_minor": 4
}
