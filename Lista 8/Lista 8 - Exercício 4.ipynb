{
 "cells": [
  {
   "cell_type": "code",
   "execution_count": 2,
   "metadata": {},
   "outputs": [],
   "source": [
    "#Lista 8\n",
    "\n",
    "#4) Crie um programa que faça a conversão entre três moedas distintas: real, euro e dólar.\n",
    "#No início do programa devem ser informadas a cotação do dólar e do euro em relação ao real. \n",
    "#Após essas informações, o programa deve apresentar o menu abaixo e realizar as conversões desejadas.\n",
    "#Para cada conversão, o valor a ser convertido deve ser informado e o valor resultante mostrado na tela."
   ]
  },
  {
   "cell_type": "code",
   "execution_count": 20,
   "metadata": {},
   "outputs": [
    {
     "name": "stdout",
     "output_type": "stream",
     "text": [
      "Cotação das moedas: \n",
      "1 real = 0,18 dólar = 0,15 euro\n",
      "1 dolar = 5,62 reais = 0,83 euro \n",
      "1 euro = 1,20 dolar = 6,73 reais\n",
      "\n",
      "Você deseja converter de: \n",
      "a) Real para Dólar \n",
      "b) Real para Euro \n",
      "c) Dólar para Real \n",
      "d) Euro para Real \n",
      "e) Dólar para Euro \n",
      "f) Euro para Dólar \n",
      "g) Sair do programa\n",
      "Informe a opção desejada: g\n"
     ]
    }
   ],
   "source": [
    "print('Cotação das moedas: \\n1 real = 0,18 dólar = 0,15 euro\\n'\n",
    "'1 dolar = 5,62 reais = 0,83 euro \\n'\n",
    "'1 euro = 1,20 dolar = 6,73 reais\\n')\n",
    " \n",
    "real_dolar = 0.18 \n",
    "real_euro = 0.15\n",
    "dolar_euro = 0.83\n",
    "dolar_real = 5.62 \n",
    "euro_dolar = 1.2\n",
    "euro_real = 6.73\n",
    "\n",
    "\n",
    "print('Você deseja converter de: \\na) Real para Dólar \\nb) Real para Euro \\nc) Dólar para Real \\n'\n",
    "'d) Euro para Real \\ne) Dólar para Euro \\nf) Euro para Dólar \\ng) Sair do programa')\n",
    "\n",
    "while (True):\n",
    "    op = input('Informe a opção desejada: ')\n",
    "    \n",
    "    if (op == 'g'):\n",
    "        break\n",
    "        \n",
    "    valor = float(input('Informe o valor a ser convertido: '))\n",
    "    \n",
    "    if (op == 'a'):\n",
    "        moeda = 'Dólar(es)'\n",
    "        valor_convertido = valor*real_dolar\n",
    "    elif (op == 'b'):\n",
    "        moeda = 'Euro(s)'\n",
    "        valor_convertido = valor*real_euro\n",
    "    elif (op == 'c'):\n",
    "        moeda = 'Real(is)'\n",
    "        valor_convertido = valor*dolar_real\n",
    "    elif (op == 'd'):\n",
    "        moeda = 'Real(is)'\n",
    "        valor_convertido = valor*euro_real\n",
    "    elif (op == 'e'):\n",
    "        moeda = 'Euro(s)'\n",
    "        valor_convertido = valor*dolar_euro\n",
    "    elif (op == 'f'):\n",
    "        moeda = 'Dólar(es)'\n",
    "        valor_convertido = valor*euro_dolar\n",
    "    \n",
    "        \n",
    "    print('O valor final é', valor_convertido, moeda)"
   ]
  }
 ],
 "metadata": {
  "kernelspec": {
   "display_name": "Python 3",
   "language": "python",
   "name": "python3"
  },
  "language_info": {
   "codemirror_mode": {
    "name": "ipython",
    "version": 3
   },
   "file_extension": ".py",
   "mimetype": "text/x-python",
   "name": "python",
   "nbconvert_exporter": "python",
   "pygments_lexer": "ipython3",
   "version": "3.8.5"
  }
 },
 "nbformat": 4,
 "nbformat_minor": 4
}
