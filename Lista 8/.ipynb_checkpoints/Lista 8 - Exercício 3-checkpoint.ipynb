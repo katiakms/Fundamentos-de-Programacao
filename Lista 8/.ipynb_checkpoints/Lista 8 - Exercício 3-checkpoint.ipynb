{
 "cells": [
  {
   "cell_type": "code",
   "execution_count": 2,
   "metadata": {},
   "outputs": [],
   "source": [
    "#Lista 8\n",
    "\n",
    "#3) Em uma pesquisa de campo, uma editora solicitou os seguintes dados para os entrevistados: sexo, idade e\n",
    "#quantidade de livros que leu no ano de 2020. \n",
    "#Faça um programa que leia os dados digitados pelo usuário, sendo que deverão ser solicitados dados até que a idade\n",
    "#digitada seja zero.\n",
    "#Depois, calcule e imprima:\n",
    "#a) A quantidade total de livros lidos pelos entrevistados menores de 10 anos.\n",
    "#b) A quantidade de mulheres que leram 5 livros ou mais.\n",
    "#c) A média de idade dos homens que leram menos que 5 livros.\n",
    "#d) O percentual de pessoas que não leram livros."
   ]
  },
  {
   "cell_type": "code",
   "execution_count": 15,
   "metadata": {},
   "outputs": [
    {
     "name": "stdout",
     "output_type": "stream",
     "text": [
      "Digite seu sexo (F - feminino, M - masculino: F\n",
      "Digite sua idade: 8\n",
      "Digite a quantidade de livros que leu em 2020: 19\n",
      "Digite seu sexo (F - feminino, M - masculino: M\n",
      "Digite sua idade: 3\n",
      "Digite a quantidade de livros que leu em 2020: 6\n",
      "Digite seu sexo (F - feminino, M - masculino: F\n",
      "Digite sua idade: 19\n",
      "Digite a quantidade de livros que leu em 2020: 9\n",
      "Digite seu sexo (F - feminino, M - masculino: M\n",
      "Digite sua idade: 20\n",
      "Digite a quantidade de livros que leu em 2020: 2\n",
      "Digite seu sexo (F - feminino, M - masculino: M\n",
      "Digite sua idade: 40\n",
      "Digite a quantidade de livros que leu em 2020: 3\n",
      "Digite seu sexo (F - feminino, M - masculino: M\n",
      "Digite sua idade: 35\n",
      "Digite a quantidade de livros que leu em 2020: 0\n",
      "Digite seu sexo (F - feminino, M - masculino: F\n",
      "Digite sua idade: 2\n",
      "Digite a quantidade de livros que leu em 2020: 0\n",
      "Digite seu sexo (F - feminino, M - masculino: M\n",
      "Digite sua idade: 0\n",
      "A quantidade total de livros lidos pelos entrevistados menores de 10 anos: 25\n",
      "A quantidade de mulheres que leram 5 livros ou mais:  2\n",
      "A média de idade dos homens que leram menos que 5 livros:  31.666666666666668\n",
      "O percentual de pessoas que não leram livros:  28.57142857142857\n"
     ]
    }
   ],
   "source": [
    "import numpy as np\n",
    "\n",
    "op_a = 0\n",
    "op_b = 0\n",
    "op_c = []\n",
    "op_d = 0\n",
    "total_pessoas = 0\n",
    "\n",
    "while (True):\n",
    "    sexo = input('Digite seu sexo (F - feminino, M - masculino: ')\n",
    "    idade = int(input('Digite sua idade: '))\n",
    "    \n",
    "    if (idade == 0):\n",
    "        break\n",
    "        \n",
    "    quant = int(input('Digite a quantidade de livros que leu em 2020: '))\n",
    "    \n",
    "    if (idade < 10):\n",
    "        op_a = op_a + quant      \n",
    "    \n",
    "    if (sexo == 'F') and (quant > 5):\n",
    "        op_b = op_b + 1   \n",
    "    \n",
    "    if (sexo == 'M' and (quant < 5)):\n",
    "        op_c.append(idade)       \n",
    "    \n",
    "    if (quant == 0):\n",
    "        op_d = op_d + 1\n",
    "        \n",
    "    total_pessoas = total_pessoas + 1\n",
    "    \n",
    "media_c = np.mean(op_c)\n",
    "percentual_d = op_d/total_pessoas * 100\n",
    "    \n",
    "print('A quantidade total de livros lidos pelos entrevistados menores de 10 anos:', op_a)\n",
    "print('A quantidade de mulheres que leram 5 livros ou mais: ', op_b)\n",
    "print('A média de idade dos homens que leram menos que 5 livros: ', media_c)\n",
    "print('O percentual de pessoas que não leram livros: ', percentual_d)"
   ]
  },
  {
   "cell_type": "code",
   "execution_count": 17,
   "metadata": {},
   "outputs": [
    {
     "data": {
      "text/plain": [
       "7"
      ]
     },
     "execution_count": 17,
     "metadata": {},
     "output_type": "execute_result"
    }
   ],
   "source": [
    "total_pessoas"
   ]
  }
 ],
 "metadata": {
  "kernelspec": {
   "display_name": "Python 3",
   "language": "python",
   "name": "python3"
  },
  "language_info": {
   "codemirror_mode": {
    "name": "ipython",
    "version": 3
   },
   "file_extension": ".py",
   "mimetype": "text/x-python",
   "name": "python",
   "nbconvert_exporter": "python",
   "pygments_lexer": "ipython3",
   "version": "3.8.5"
  }
 },
 "nbformat": 4,
 "nbformat_minor": 4
}
