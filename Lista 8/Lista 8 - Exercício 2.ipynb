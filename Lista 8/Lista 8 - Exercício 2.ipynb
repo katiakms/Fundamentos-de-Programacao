{
 "cells": [
  {
   "cell_type": "code",
   "execution_count": 1,
   "metadata": {},
   "outputs": [],
   "source": [
    "#Lista 8 \n",
    "\n",
    "#2) Fazer um programa que calcule e imprima o fatorial de um número fornecido pelo usuário.\n",
    "#Repetir a execução do programa tantas até o usuário responder não. O fatorial de um\n",
    "#número inteiro positivo é definido como o número multiplicado por ele menos 1, menos 2, etc até o valor 1."
   ]
  },
  {
   "cell_type": "code",
   "execution_count": 9,
   "metadata": {},
   "outputs": [
    {
     "name": "stdout",
     "output_type": "stream",
     "text": [
      "Entre com um número: 5\n",
      "O fatorial de 5 é 120\n",
      "Calcular outro número? (S - sim, N - não) S\n",
      "Entre com um número: 4\n",
      "O fatorial de 4 é 24\n",
      "Calcular outro número? (S - sim, N - não) S\n",
      "Entre com um número: 3\n",
      "O fatorial de 3 é 6\n",
      "Calcular outro número? (S - sim, N - não) N\n"
     ]
    }
   ],
   "source": [
    "while (True):\n",
    "    fat = 1\n",
    "    \n",
    "    num = int(input('Entre com um número: '))\n",
    "    numero = num\n",
    "    \n",
    "    for i in range(1,num):\n",
    "        fat = fat*num\n",
    "        num = num-1\n",
    "        \n",
    "    print('O fatorial de', numero, 'é', fat)\n",
    "    op = input('Calcular outro número? (S - sim, N - não) ')\n",
    "    \n",
    "    if (op != 'S'):\n",
    "        break"
   ]
  }
 ],
 "metadata": {
  "kernelspec": {
   "display_name": "Python 3",
   "language": "python",
   "name": "python3"
  },
  "language_info": {
   "codemirror_mode": {
    "name": "ipython",
    "version": 3
   },
   "file_extension": ".py",
   "mimetype": "text/x-python",
   "name": "python",
   "nbconvert_exporter": "python",
   "pygments_lexer": "ipython3",
   "version": "3.8.5"
  }
 },
 "nbformat": 4,
 "nbformat_minor": 4
}
