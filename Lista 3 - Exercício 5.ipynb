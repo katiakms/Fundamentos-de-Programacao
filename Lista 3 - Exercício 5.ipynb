{
 "cells": [
  {
   "cell_type": "code",
   "execution_count": 1,
   "metadata": {},
   "outputs": [],
   "source": [
    "#Lista de exercícios 3\n",
    "\n",
    "#5) Faça um algoritmo que receba o valor do salário minimo e o valor do salário de um funcionário\n",
    "#Calcule e mostre a quantidade de salários mínimos que ganha esse funcionário"
   ]
  },
  {
   "cell_type": "code",
   "execution_count": 3,
   "metadata": {},
   "outputs": [
    {
     "name": "stdout",
     "output_type": "stream",
     "text": [
      "Entre o valor do salário mínimo: 1000\n",
      "Entre o valor do salário do funcionario: 2000\n",
      "O funcionário recebe 2.0 salários mínimos\n"
     ]
    }
   ],
   "source": [
    "salario_minimo = input('Entre o valor do salário mínimo: ')\n",
    "salario_funcionario = input('Entre o valor do salário do funcionario: ')\n",
    "\n",
    "valor_salarios = float(salario_funcionario)/float(salario_minimo)\n",
    "\n",
    "print('O funcionário recebe', valor_salarios, 'salários mínimos')"
   ]
  },
  {
   "cell_type": "code",
   "execution_count": null,
   "metadata": {},
   "outputs": [],
   "source": []
  },
  {
   "cell_type": "code",
   "execution_count": null,
   "metadata": {},
   "outputs": [],
   "source": []
  }
 ],
 "metadata": {
  "kernelspec": {
   "display_name": "Python 3",
   "language": "python",
   "name": "python3"
  },
  "language_info": {
   "codemirror_mode": {
    "name": "ipython",
    "version": 3
   },
   "file_extension": ".py",
   "mimetype": "text/x-python",
   "name": "python",
   "nbconvert_exporter": "python",
   "pygments_lexer": "ipython3",
   "version": "3.8.5"
  }
 },
 "nbformat": 4,
 "nbformat_minor": 4
}
