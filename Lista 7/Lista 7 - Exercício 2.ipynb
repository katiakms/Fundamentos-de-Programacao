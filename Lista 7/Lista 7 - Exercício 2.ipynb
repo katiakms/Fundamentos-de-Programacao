{
 "cells": [
  {
   "cell_type": "code",
   "execution_count": 3,
   "metadata": {},
   "outputs": [],
   "source": [
    "#Lista 7\n",
    "\n",
    "#2) Descubra dentre uma lista de cinco nomes informados pelo usuário, qual o primeiro em ordem alfabética"
   ]
  },
  {
   "cell_type": "code",
   "execution_count": 15,
   "metadata": {},
   "outputs": [
    {
     "name": "stdout",
     "output_type": "stream",
     "text": [
      "Digite o primeiro nome: zena\n",
      "Digite o segundo nome: bia\n",
      "Digite o terceiro nome: xia\n",
      "Digite o quarto nome: af\n",
      "Digite o quinto nome: teste\n",
      "O primeiro nome em ordem alfabética é: af\n"
     ]
    }
   ],
   "source": [
    "nome1 = input('Digite o primeiro nome: ')\n",
    "nome2 = input('Digite o segundo nome: ')\n",
    "nome3 = input('Digite o terceiro nome: ')\n",
    "nome4 = input('Digite o quarto nome: ')\n",
    "nome5 = input('Digite o quinto nome: ')\n",
    "\n",
    "nomes = [nome1, nome2, nome3, nome4, nome5]\n",
    "nomes_ordem = sorted(nomes)\n",
    "\n",
    "if (nomes_ordem[0] == nome1):\n",
    "    print('O primeiro nome em ordem alfabética é:', nome1)\n",
    "elif (nomes_ordem[0] == nome2):\n",
    "    print('O primeiro nome em ordem alfabética é:', nome2)\n",
    "elif (nomes_ordem[0] == nome3):\n",
    "    print('O primeiro nome em ordem alfabética é:', nome3)\n",
    "elif (nomes_ordem[0] == nome4):\n",
    "    print('O primeiro nome em ordem alfabética é:', nome4)\n",
    "elif (nomes_ordem[0] == nome5):\n",
    "    print('O primeiro nome em ordem alfabética é:', nome5)"
   ]
  },
  {
   "cell_type": "code",
   "execution_count": null,
   "metadata": {},
   "outputs": [],
   "source": []
  },
  {
   "cell_type": "code",
   "execution_count": null,
   "metadata": {},
   "outputs": [],
   "source": []
  }
 ],
 "metadata": {
  "kernelspec": {
   "display_name": "Python 3",
   "language": "python",
   "name": "python3"
  },
  "language_info": {
   "codemirror_mode": {
    "name": "ipython",
    "version": 3
   },
   "file_extension": ".py",
   "mimetype": "text/x-python",
   "name": "python",
   "nbconvert_exporter": "python",
   "pygments_lexer": "ipython3",
   "version": "3.8.5"
  }
 },
 "nbformat": 4,
 "nbformat_minor": 4
}
