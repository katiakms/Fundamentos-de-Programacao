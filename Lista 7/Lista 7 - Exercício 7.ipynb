{
 "cells": [
  {
   "cell_type": "code",
   "execution_count": 1,
   "metadata": {},
   "outputs": [],
   "source": [
    "#Lista 7\n",
    "\n",
    "#7) Elabore um programa que lê um número de 1 a 9 e mostra a tabuada de multiplicação do número.\n",
    "#Por exemplo, para o 5:\n",
    "#5 x 1 = 5\n",
    "#5 x 2 = 10\n",
    "#...\n",
    "#5 x 10 = 50\n",
    "#Após mostrar uma tabuada, o programa pergunta se o usuário deseja ver outra. \n",
    "#Se a resposta for positiva (por exemplo, 'S'), ele faz tudo de novo, caso contrário termina."
   ]
  },
  {
   "cell_type": "code",
   "execution_count": 6,
   "metadata": {},
   "outputs": [
    {
     "name": "stdout",
     "output_type": "stream",
     "text": [
      "Digite um número: 4\n",
      "4 x 1 = 4\n",
      "4 x 2 = 8\n",
      "4 x 3 = 12\n",
      "4 x 4 = 16\n",
      "4 x 5 = 20\n",
      "4 x 6 = 24\n",
      "4 x 7 = 28\n",
      "4 x 8 = 32\n",
      "4 x 9 = 36\n",
      "4 x 10 = 40\n",
      "Você deseja ver outra? (S: sim, N: não) S\n",
      "Digite um número: 5\n",
      "5 x 1 = 5\n",
      "5 x 2 = 10\n",
      "5 x 3 = 15\n",
      "5 x 4 = 20\n",
      "5 x 5 = 25\n",
      "5 x 6 = 30\n",
      "5 x 7 = 35\n",
      "5 x 8 = 40\n",
      "5 x 9 = 45\n",
      "5 x 10 = 50\n",
      "Você deseja ver outra? (S: sim, N: não) N\n"
     ]
    }
   ],
   "source": [
    "pergunta = 'S'\n",
    "\n",
    "while (pergunta == 'S'):\n",
    "    num = int(input('Digite um número: '))\n",
    "    \n",
    "    for i in range(1,11):\n",
    "        resp = num*i\n",
    "        print(num, 'x', i, '=', resp)\n",
    "\n",
    "    pergunta = input('Você deseja ver outra? (S: sim, N: não) ')\n",
    "    "
   ]
  },
  {
   "cell_type": "code",
   "execution_count": null,
   "metadata": {},
   "outputs": [],
   "source": []
  }
 ],
 "metadata": {
  "kernelspec": {
   "display_name": "Python 3",
   "language": "python",
   "name": "python3"
  },
  "language_info": {
   "codemirror_mode": {
    "name": "ipython",
    "version": 3
   },
   "file_extension": ".py",
   "mimetype": "text/x-python",
   "name": "python",
   "nbconvert_exporter": "python",
   "pygments_lexer": "ipython3",
   "version": "3.8.5"
  }
 },
 "nbformat": 4,
 "nbformat_minor": 4
}
