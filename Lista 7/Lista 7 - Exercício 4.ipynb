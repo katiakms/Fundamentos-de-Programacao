{
 "cells": [
  {
   "cell_type": "code",
   "execution_count": 2,
   "metadata": {},
   "outputs": [],
   "source": [
    "#Lista 7\n",
    "\n",
    "#4) Crie um algoritmo que some as notas de uma turma de 15 alunos e depois imprima a menor nota,\n",
    "#a maior nota e a média da turma."
   ]
  },
  {
   "cell_type": "code",
   "execution_count": 24,
   "metadata": {},
   "outputs": [
    {
     "name": "stdout",
     "output_type": "stream",
     "text": [
      "A média das notas é: 5.920000000000001\n",
      "A menor nota é: 0.8\n",
      "A maior nota é: 9.8\n"
     ]
    }
   ],
   "source": [
    "import numpy as np\n",
    "\n",
    "notas = [4.7, 5.3, 9.8, 7.9, 3, 2.7, 1.2, 0.8, 8.0, 9.1, 6.4, 4.5, 8.9, 7.2, 9.3]\n",
    "soma = 0\n",
    "\n",
    "for i in range(0,15):\n",
    "    soma = notas[i] + soma\n",
    "    \n",
    "notas_ordem = sorted(notas)\n",
    "    \n",
    "media = np.mean(notas)\n",
    "print('A média das notas é:', media)\n",
    "\n",
    "print('A menor nota é:',notas_ordem[0])\n",
    "print('A maior nota é:',notas_ordem[len(notas_ordem)-1])"
   ]
  },
  {
   "cell_type": "code",
   "execution_count": null,
   "metadata": {},
   "outputs": [],
   "source": []
  },
  {
   "cell_type": "code",
   "execution_count": null,
   "metadata": {},
   "outputs": [],
   "source": []
  },
  {
   "cell_type": "code",
   "execution_count": null,
   "metadata": {},
   "outputs": [],
   "source": []
  }
 ],
 "metadata": {
  "kernelspec": {
   "display_name": "Python 3",
   "language": "python",
   "name": "python3"
  },
  "language_info": {
   "codemirror_mode": {
    "name": "ipython",
    "version": 3
   },
   "file_extension": ".py",
   "mimetype": "text/x-python",
   "name": "python",
   "nbconvert_exporter": "python",
   "pygments_lexer": "ipython3",
   "version": "3.8.5"
  }
 },
 "nbformat": 4,
 "nbformat_minor": 4
}
