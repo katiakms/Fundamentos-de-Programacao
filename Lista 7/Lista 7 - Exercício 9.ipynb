{
 "cells": [
  {
   "cell_type": "code",
   "execution_count": 1,
   "metadata": {},
   "outputs": [],
   "source": [
    "#Lista 7\n",
    "\n",
    "#9) Para X alunos da Unisinos, ler as notas do grau A e grau B e calcular a média considerando o\n",
    "#sistema de notas da Unisinos. Se o aluno estiver aprovado escrever “APROVADO”. \n",
    "#Caso contrário, ler o grau C e pedir qual o grau que deve ser substituído (A ou B, maiúsculo ou minúsculo), \n",
    "#recalcular a média. Se estiver aprovado, escrever “APROVADO”, caso contrário escrever “REPROVADO”\n",
    "#No final escrever a média geral dos alunos."
   ]
  },
  {
   "cell_type": "code",
   "execution_count": 7,
   "metadata": {},
   "outputs": [
    {
     "name": "stdout",
     "output_type": "stream",
     "text": [
      "Digite o número de alunos: 2\n",
      "Digite a nota do grau A: 1\n",
      "Digite a nota do grau B: 1\n",
      "Digite a nota do grau C: 1\n",
      "Digite qual nota quer substituir (A: grau A, B: grau B): A\n",
      "REPROVADO\n",
      "Digite a nota do grau A: 10\n",
      "Digite a nota do grau B: 9\n",
      "APROVADO\n"
     ]
    }
   ],
   "source": [
    "num = int(input('Digite o número de alunos: '))\n",
    "count = 0\n",
    "\n",
    "while count < num:\n",
    "    count = count + 1\n",
    "    grauA = float(input('Digite a nota do grau A: '))\n",
    "    grauB = float(input('Digite a nota do grau B: '))\n",
    "    nota = 1/3 * grauA + 2/3 * grauB\n",
    "    \n",
    "    if (nota >= 7):\n",
    "        print('APROVADO')\n",
    "    else:\n",
    "        grauC = float(input('Digite a nota do grau C: '))\n",
    "        subs = input('Digite qual nota quer substituir (A: grau A, B: grau B): ')\n",
    "        \n",
    "        if (subs == 'A'):\n",
    "            nota = 1/3 * grauC + 2/3 * grauB \n",
    "        elif (subs == 'B'):\n",
    "            nota = 1/3 * grauA + 2/3 * grauC\n",
    "            \n",
    "        if (nota >= 7):\n",
    "            print('APROVADO')\n",
    "        else:    \n",
    "            print('REPROVADO')"
   ]
  },
  {
   "cell_type": "code",
   "execution_count": null,
   "metadata": {},
   "outputs": [],
   "source": []
  },
  {
   "cell_type": "code",
   "execution_count": null,
   "metadata": {},
   "outputs": [],
   "source": []
  },
  {
   "cell_type": "code",
   "execution_count": null,
   "metadata": {},
   "outputs": [],
   "source": []
  }
 ],
 "metadata": {
  "kernelspec": {
   "display_name": "Python 3",
   "language": "python",
   "name": "python3"
  },
  "language_info": {
   "codemirror_mode": {
    "name": "ipython",
    "version": 3
   },
   "file_extension": ".py",
   "mimetype": "text/x-python",
   "name": "python",
   "nbconvert_exporter": "python",
   "pygments_lexer": "ipython3",
   "version": "3.8.5"
  }
 },
 "nbformat": 4,
 "nbformat_minor": 4
}
