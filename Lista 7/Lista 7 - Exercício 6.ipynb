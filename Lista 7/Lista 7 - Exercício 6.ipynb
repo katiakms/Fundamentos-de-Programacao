{
 "cells": [
  {
   "cell_type": "code",
   "execution_count": 1,
   "metadata": {},
   "outputs": [],
   "source": [
    "#Lista 7\n",
    "\n",
    "#6)Implemente um programa que sorteia um número de 1 a 10 e dá ao usuário 3 tentativas de acertá-lo. \n",
    "#A cada tentativa errada, o programa informa se o número a adivinhar está abaixo ou acima."
   ]
  },
  {
   "cell_type": "code",
   "execution_count": 49,
   "metadata": {},
   "outputs": [
    {
     "name": "stdout",
     "output_type": "stream",
     "text": [
      "Tente acertar o número: 1\n",
      "A sua tentativa é menor que o número sorteado\n",
      "Tente acertar o número: 10\n",
      "A sua tentativa é maior que o número sorteado\n",
      "Tente acertar o número: 6\n",
      "A sua tentativa é maior que o número sorteado\n"
     ]
    }
   ],
   "source": [
    "import random\n",
    "\n",
    "num = random.randint(1, 10)\n",
    "count = 1\n",
    "while count < 4:     \n",
    "    chute = int(input('Tente acertar o número: '))\n",
    "\n",
    "    if chute == num:\n",
    "        print('Acertou')\n",
    "        break\n",
    "    elif chute > num:\n",
    "        print('A sua tentativa é maior que o número sorteado')\n",
    "    elif chute < num:\n",
    "        print('A sua tentativa é menor que o número sorteado')\n",
    "\n",
    "    count = count+1;"
   ]
  },
  {
   "cell_type": "code",
   "execution_count": null,
   "metadata": {},
   "outputs": [],
   "source": []
  },
  {
   "cell_type": "code",
   "execution_count": null,
   "metadata": {},
   "outputs": [],
   "source": []
  }
 ],
 "metadata": {
  "kernelspec": {
   "display_name": "Python 3",
   "language": "python",
   "name": "python3"
  },
  "language_info": {
   "codemirror_mode": {
    "name": "ipython",
    "version": 3
   },
   "file_extension": ".py",
   "mimetype": "text/x-python",
   "name": "python",
   "nbconvert_exporter": "python",
   "pygments_lexer": "ipython3",
   "version": "3.8.5"
  }
 },
 "nbformat": 4,
 "nbformat_minor": 4
}
