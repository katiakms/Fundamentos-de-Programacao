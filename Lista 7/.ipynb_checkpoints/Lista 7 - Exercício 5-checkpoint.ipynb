{
 "cells": [
  {
   "cell_type": "code",
   "execution_count": 3,
   "metadata": {},
   "outputs": [],
   "source": [
    "#Lista 7\n",
    "\n",
    "#5) Está sendo feito um concurso cultural entre meninas (até 12 anos) e idosas (maiores de 59 anos).\n",
    "#Leia o nome, a idade e o sexo de 10 candidatos. Após cada leitura diga se o candidato está apto a concorrer"
   ]
  },
  {
   "cell_type": "code",
   "execution_count": null,
   "metadata": {},
   "outputs": [],
   "source": [
    "for i in range(0,10):\n",
    "    nome = input('Nome: ')\n",
    "    idade = int(input('Idade: '))\n",
    "    sexo = input('Sexo (F: feminino, M:masculino): ')\n",
    "    \n",
    "    if (sexo == 'F') and (idade <= 12 or idade > 59):\n",
    "        print('O candidato está apto a correr')\n",
    "    else:\n",
    "        print('O candidato não está apto a correr')"
   ]
  },
  {
   "cell_type": "code",
   "execution_count": null,
   "metadata": {},
   "outputs": [],
   "source": []
  },
  {
   "cell_type": "code",
   "execution_count": null,
   "metadata": {},
   "outputs": [],
   "source": []
  },
  {
   "cell_type": "code",
   "execution_count": null,
   "metadata": {},
   "outputs": [],
   "source": []
  }
 ],
 "metadata": {
  "kernelspec": {
   "display_name": "Python 3",
   "language": "python",
   "name": "python3"
  },
  "language_info": {
   "codemirror_mode": {
    "name": "ipython",
    "version": 3
   },
   "file_extension": ".py",
   "mimetype": "text/x-python",
   "name": "python",
   "nbconvert_exporter": "python",
   "pygments_lexer": "ipython3",
   "version": "3.8.5"
  }
 },
 "nbformat": 4,
 "nbformat_minor": 4
}
