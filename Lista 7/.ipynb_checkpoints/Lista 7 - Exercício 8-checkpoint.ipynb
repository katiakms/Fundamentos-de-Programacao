{
 "cells": [
  {
   "cell_type": "code",
   "execution_count": 1,
   "metadata": {},
   "outputs": [],
   "source": [
    "#Lista 7\n",
    "\n",
    "#8) Escrever um programa que calcule todos os números divisíveis por certo valor indicado pelo\n",
    "#usuário (o resto da divisão por este número deve ser igual a zero), compreendidos em um intervalo\n",
    "#também especificado pelo usuário. O usuário deve entrar com um primeiro valor correspondente\n",
    "#ao divisor e após ele vai fornecer o valor inicial do intervalo, seguido do valor final deste intervalo."
   ]
  },
  {
   "cell_type": "code",
   "execution_count": 6,
   "metadata": {},
   "outputs": [
    {
     "name": "stdout",
     "output_type": "stream",
     "text": [
      "Entre com o valor do divisor: 3\n",
      "Digite número inicial do intervalo: 17\n",
      "Digite número final do intervalo: 29\n",
      "Números divisíveis por 3 no intervalo de 17 a 29 :\n",
      "18\n",
      "21\n",
      "24\n",
      "27\n"
     ]
    }
   ],
   "source": [
    "num = int(input('Entre com o valor do divisor: '))\n",
    "intervalo1 = int(input('Digite número inicial do intervalo: '))\n",
    "intervalo2 = int(input('Digite número final do intervalo: '))\n",
    "\n",
    "print('Números divisíveis por', num, 'no intervalo de', intervalo1, 'a', intervalo2, ':')\n",
    "\n",
    "for i in range(intervalo1, intervalo2):\n",
    "    if i%num == 0:\n",
    "        print(i)"
   ]
  },
  {
   "cell_type": "code",
   "execution_count": null,
   "metadata": {},
   "outputs": [],
   "source": []
  },
  {
   "cell_type": "code",
   "execution_count": null,
   "metadata": {},
   "outputs": [],
   "source": []
  }
 ],
 "metadata": {
  "kernelspec": {
   "display_name": "Python 3",
   "language": "python",
   "name": "python3"
  },
  "language_info": {
   "codemirror_mode": {
    "name": "ipython",
    "version": 3
   },
   "file_extension": ".py",
   "mimetype": "text/x-python",
   "name": "python",
   "nbconvert_exporter": "python",
   "pygments_lexer": "ipython3",
   "version": "3.8.5"
  }
 },
 "nbformat": 4,
 "nbformat_minor": 4
}
