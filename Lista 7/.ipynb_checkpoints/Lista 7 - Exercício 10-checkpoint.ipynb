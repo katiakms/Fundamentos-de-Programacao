{
 "cells": [
  {
   "cell_type": "code",
   "execution_count": 1,
   "metadata": {},
   "outputs": [],
   "source": [
    "#Lista 7\n",
    "\n",
    "#10)  Criar um programa que leia o nome de pessoas e a sua profissão. Quando o usuário digitar “fim”\n",
    "#no campo nome, o programa deve terminar. Ao terminar escrever o número de advogadas ou\n",
    "#advogados cadastrados. "
   ]
  },
  {
   "cell_type": "code",
   "execution_count": 7,
   "metadata": {},
   "outputs": [
    {
     "name": "stdout",
     "output_type": "stream",
     "text": [
      "Nome: ana\n",
      "Profissão: advogada\n",
      "Nome: luiz\n",
      "Profissão: professor\n",
      "Nome: edgar\n",
      "Profissão: advogado\n",
      "Nome: fim\n",
      "O número de advogadas ou advogados cadastrados é 2\n"
     ]
    }
   ],
   "source": [
    "num_advog = 0\n",
    "\n",
    "while True:\n",
    "    nome = input('Nome: ')\n",
    "    \n",
    "    if (nome == 'fim'):\n",
    "        break\n",
    "    \n",
    "    profissao = input('Profissão: ')\n",
    "    \n",
    "    if 'advogad' in profissao:\n",
    "        num_advog = num_advog + 1\n",
    "        \n",
    "print('O número de advogadas ou advogados cadastrados é', num_advog)"
   ]
  },
  {
   "cell_type": "code",
   "execution_count": null,
   "metadata": {},
   "outputs": [],
   "source": []
  },
  {
   "cell_type": "code",
   "execution_count": null,
   "metadata": {},
   "outputs": [],
   "source": []
  }
 ],
 "metadata": {
  "kernelspec": {
   "display_name": "Python 3",
   "language": "python",
   "name": "python3"
  },
  "language_info": {
   "codemirror_mode": {
    "name": "ipython",
    "version": 3
   },
   "file_extension": ".py",
   "mimetype": "text/x-python",
   "name": "python",
   "nbconvert_exporter": "python",
   "pygments_lexer": "ipython3",
   "version": "3.8.5"
  }
 },
 "nbformat": 4,
 "nbformat_minor": 4
}
