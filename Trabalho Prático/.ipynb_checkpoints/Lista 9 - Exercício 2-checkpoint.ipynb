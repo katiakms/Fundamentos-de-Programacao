{
 "cells": [
  {
   "cell_type": "code",
   "execution_count": 1,
   "metadata": {},
   "outputs": [],
   "source": [
    "#Lista 9\n",
    "\n",
    "#2) Faça um programa que leia 5 valores para dentro de um vetor e imprima o resultado de\n",
    "#cada valor multiplicado pela sua posição no vetor. Por exemplo: 1, 2, 3, 4 e 5 imprimirá na\n",
    "#tela 0, 2, 6, 12 e 20."
   ]
  },
  {
   "cell_type": "code",
   "execution_count": 11,
   "metadata": {},
   "outputs": [],
   "source": [
    "def multiplica_posicao(valor_vetor,n):\n",
    "    valor_final_vetor = []\n",
    "    for i in range(0,n):\n",
    "        valor_final = i*valor_vetor[i]\n",
    "        valor_final_vetor.append(valor_final)\n",
    "    return valor_final_vetor"
   ]
  },
  {
   "cell_type": "code",
   "execution_count": 13,
   "metadata": {},
   "outputs": [
    {
     "name": "stdout",
     "output_type": "stream",
     "text": [
      "Digite um número: 1\n",
      "Digite um número: 2\n",
      "Digite um número: 3\n",
      "Digite um número: 4\n",
      "Digite um número: 5\n",
      "[0, 2, 6, 12, 20]\n"
     ]
    }
   ],
   "source": [
    "valor_vetor = []\n",
    "n = 5\n",
    "\n",
    "for i in range(0,n):\n",
    "    valor = int(input('Digite um número: '))\n",
    "    valor_vetor.append(valor)\n",
    "    \n",
    "valor_final_vetor = multiplica_posicao(valor_vetor,n)\n",
    "\n",
    "print(valor_final_vetor)"
   ]
  },
  {
   "cell_type": "code",
   "execution_count": null,
   "metadata": {},
   "outputs": [],
   "source": []
  }
 ],
 "metadata": {
  "kernelspec": {
   "display_name": "Python 3",
   "language": "python",
   "name": "python3"
  },
  "language_info": {
   "codemirror_mode": {
    "name": "ipython",
    "version": 3
   },
   "file_extension": ".py",
   "mimetype": "text/x-python",
   "name": "python",
   "nbconvert_exporter": "python",
   "pygments_lexer": "ipython3",
   "version": "3.8.5"
  }
 },
 "nbformat": 4,
 "nbformat_minor": 4
}
