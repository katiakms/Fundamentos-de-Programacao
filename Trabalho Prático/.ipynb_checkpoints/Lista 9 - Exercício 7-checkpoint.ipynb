{
 "cells": [
  {
   "cell_type": "code",
   "execution_count": 2,
   "metadata": {},
   "outputs": [],
   "source": [
    "#Lista 9\n",
    "\n",
    "#7) Crie uma função que receba um número por parâmetro. Esse número, se for positivo, deve\n",
    "#ser utilizado para calcular o fatorial. Se for negativo deve retornar -1"
   ]
  },
  {
   "cell_type": "code",
   "execution_count": 21,
   "metadata": {},
   "outputs": [],
   "source": [
    "def fatorial(numero):\n",
    "    if (numero < 0):\n",
    "        return -1\n",
    "    else:\n",
    "        fatorial = 1\n",
    "        i=1\n",
    "        while i <= numero:\n",
    "            fatorial = fatorial*i \n",
    "            i = i + 1\n",
    "        print('O fatorial é:', fatorial)"
   ]
  },
  {
   "cell_type": "code",
   "execution_count": null,
   "metadata": {},
   "outputs": [],
   "source": []
  },
  {
   "cell_type": "code",
   "execution_count": null,
   "metadata": {},
   "outputs": [],
   "source": []
  }
 ],
 "metadata": {
  "kernelspec": {
   "display_name": "Python 3",
   "language": "python",
   "name": "python3"
  },
  "language_info": {
   "codemirror_mode": {
    "name": "ipython",
    "version": 3
   },
   "file_extension": ".py",
   "mimetype": "text/x-python",
   "name": "python",
   "nbconvert_exporter": "python",
   "pygments_lexer": "ipython3",
   "version": "3.8.5"
  }
 },
 "nbformat": 4,
 "nbformat_minor": 4
}
