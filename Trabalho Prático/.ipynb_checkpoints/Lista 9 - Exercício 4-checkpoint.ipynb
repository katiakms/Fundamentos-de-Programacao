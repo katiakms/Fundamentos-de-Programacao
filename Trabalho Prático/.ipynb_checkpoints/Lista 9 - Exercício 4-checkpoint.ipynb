{
 "cells": [
  {
   "cell_type": "code",
   "execution_count": 2,
   "metadata": {},
   "outputs": [],
   "source": [
    "#Lista 9\n",
    "\n",
    "#4) Faça um código que preencha um vetor de tamanho 100 com os 100 primeiros naturais que\n",
    "#não sejam múltiplos de 7 ou que terminem com 7."
   ]
  },
  {
   "cell_type": "code",
   "execution_count": 6,
   "metadata": {},
   "outputs": [],
   "source": [
    "import numpy as np"
   ]
  },
  {
   "cell_type": "code",
   "execution_count": 17,
   "metadata": {},
   "outputs": [
    {
     "name": "stdout",
     "output_type": "stream",
     "text": [
      "[1, 2, 3, 4, 5, 6, 8, 9, 10, 11, 12, 13, 15, 16, 18, 19, 20, 22, 23, 24, 25, 26, 29, 30, 31, 32, 33, 34, 36, 38, 39, 40, 41, 43, 44, 45, 46, 48, 50, 51, 52, 53, 54, 55, 58, 59, 60, 61, 62, 64, 65, 66, 68, 69, 71, 72, 73, 74, 75, 76, 78, 79, 80, 81, 82, 83, 85, 86, 88, 89, 90, 92, 93, 94, 95, 96, 99, 100, 101, 102, 103, 104, 106, 108, 109, 110, 111, 113, 114, 115, 116, 118, 120, 121, 122, 123, 124, 125, 128]\n"
     ]
    }
   ],
   "source": [
    "n = 100\n",
    "vetor = []\n",
    "num = 1\n",
    "num_evitar = 7\n",
    "\n",
    "while np.size(vetor) != n-1:\n",
    "    if (num%num_evitar != 0) and (num%10 != num_evitar):\n",
    "        vetor.append(num)\n",
    "    num = num+1\n",
    "        \n",
    "print(vetor)"
   ]
  },
  {
   "cell_type": "code",
   "execution_count": null,
   "metadata": {},
   "outputs": [],
   "source": []
  },
  {
   "cell_type": "code",
   "execution_count": null,
   "metadata": {},
   "outputs": [],
   "source": []
  }
 ],
 "metadata": {
  "kernelspec": {
   "display_name": "Python 3",
   "language": "python",
   "name": "python3"
  },
  "language_info": {
   "codemirror_mode": {
    "name": "ipython",
    "version": 3
   },
   "file_extension": ".py",
   "mimetype": "text/x-python",
   "name": "python",
   "nbconvert_exporter": "python",
   "pygments_lexer": "ipython3",
   "version": "3.8.5"
  }
 },
 "nbformat": 4,
 "nbformat_minor": 4
}
