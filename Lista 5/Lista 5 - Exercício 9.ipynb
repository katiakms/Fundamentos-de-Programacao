{
 "cells": [
  {
   "cell_type": "code",
   "execution_count": 1,
   "metadata": {},
   "outputs": [],
   "source": [
    "#Lista 5\n",
    "\n",
    "#9) Criar um programa para identificar o valor a ser pago por um plano de saúde dada a idade do\n",
    "#conveniado considerando que todos pagam R$ 300 e mais um adicional (se tiver dependentes)\n",
    "#conforme a seguinte tabela:\n",
    "#a) crianças com menos de 10 anos pagam R$100;\n",
    "#b) dependentes com idade entre 10 e 30 anos pagam R$220;\n",
    "#c) dependentes com idade entre 31 e 60 anos pagam R$ 395; e\n",
    "#d) dependentes com mais de 60 anos pagam R$ 480."
   ]
  },
  {
   "cell_type": "code",
   "execution_count": 10,
   "metadata": {},
   "outputs": [
    {
     "name": "stdout",
     "output_type": "stream",
     "text": [
      "Você tem dependentes? (s = sim, n = não) s\n",
      "Digite quantos dependentes com menos de 10 anos: 1\n",
      "Digite quantos dependentes com idade entre 10 e 30 anos: 1\n",
      "Digite quantos dependentes com idade entre 31 e 60 anos: 1\n",
      "Digite quantos dependentes com mais de 60 anos: 1\n",
      "Valor a ser pago: 1495\n"
     ]
    }
   ],
   "source": [
    "dependente = input('Você tem dependentes? (s = sim, n = não) ')\n",
    "\n",
    "if (dependente == 's'):\n",
    "    dep1 = input('Digite quantos dependentes com menos de 10 anos: ')\n",
    "    dep2 = input('Digite quantos dependentes com idade entre 10 e 30 anos: ')\n",
    "    dep3 = input('Digite quantos dependentes com idade entre 31 e 60 anos: ')\n",
    "    dep4 = input('Digite quantos dependentes com mais de 60 anos: ')\n",
    "    valor = 300 + int(dep1)*100 + int(dep2)*220 + int(dep3)*395 + int(dep4)*480\n",
    "else:\n",
    "    valor = 300\n",
    "    \n",
    "print('Valor a ser pago:', valor)"
   ]
  },
  {
   "cell_type": "code",
   "execution_count": null,
   "metadata": {},
   "outputs": [],
   "source": []
  },
  {
   "cell_type": "code",
   "execution_count": null,
   "metadata": {},
   "outputs": [],
   "source": []
  }
 ],
 "metadata": {
  "kernelspec": {
   "display_name": "Python 3",
   "language": "python",
   "name": "python3"
  },
  "language_info": {
   "codemirror_mode": {
    "name": "ipython",
    "version": 3
   },
   "file_extension": ".py",
   "mimetype": "text/x-python",
   "name": "python",
   "nbconvert_exporter": "python",
   "pygments_lexer": "ipython3",
   "version": "3.8.5"
  }
 },
 "nbformat": 4,
 "nbformat_minor": 4
}
