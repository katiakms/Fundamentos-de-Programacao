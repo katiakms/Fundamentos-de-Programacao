{
 "cells": [
  {
   "cell_type": "code",
   "execution_count": 1,
   "metadata": {},
   "outputs": [],
   "source": [
    "#Lista 5\n",
    "\n",
    "#3) Implementar um programa que calcula o desconto previdenciário de um funcionário.\n",
    "#A classe deve, dado um salário retornar o valor do desconto proporcional ao mesmo.\n",
    "#Entretanto, o cálculo de desconto segue a regra: o desconto deve 11% do valor do salário, entretanto, o valor máximo\n",
    "#de desconto é 318,20. Sendo assim, ou o método retorna 11% sobre o salário ou 318,20"
   ]
  },
  {
   "cell_type": "code",
   "execution_count": 5,
   "metadata": {},
   "outputs": [
    {
     "name": "stdout",
     "output_type": "stream",
     "text": [
      "Entre o valor do salário: 10000\n",
      "O salário é: 10000\n"
     ]
    }
   ],
   "source": [
    "salario = input('Entre o valor do salário: ')\n",
    "desconto = 11/100\n",
    "\n",
    "desconto_do_salario = float(salario)*desconto\n",
    "valor_maximo = 318.20\n",
    "\n",
    "if (desconto_do_salario > valor_maximo):\n",
    "    print('O salário é:', salario)\n",
    "else:\n",
    "    salario_desconto = float(salario) - desconto_do_salario\n",
    "    print('O salário é:', salario_desconto)"
   ]
  },
  {
   "cell_type": "code",
   "execution_count": null,
   "metadata": {},
   "outputs": [],
   "source": []
  },
  {
   "cell_type": "code",
   "execution_count": null,
   "metadata": {},
   "outputs": [],
   "source": []
  },
  {
   "cell_type": "code",
   "execution_count": null,
   "metadata": {},
   "outputs": [],
   "source": []
  }
 ],
 "metadata": {
  "kernelspec": {
   "display_name": "Python 3",
   "language": "python",
   "name": "python3"
  },
  "language_info": {
   "codemirror_mode": {
    "name": "ipython",
    "version": 3
   },
   "file_extension": ".py",
   "mimetype": "text/x-python",
   "name": "python",
   "nbconvert_exporter": "python",
   "pygments_lexer": "ipython3",
   "version": "3.8.5"
  }
 },
 "nbformat": 4,
 "nbformat_minor": 4
}
