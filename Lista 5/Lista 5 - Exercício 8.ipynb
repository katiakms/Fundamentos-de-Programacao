{
 "cells": [
  {
   "cell_type": "code",
   "execution_count": 1,
   "metadata": {},
   "outputs": [],
   "source": [
    "#Lista 5\n",
    "\n",
    "#8) Faça um programa que leia a nota do Grau A e do Grau B do aluno e calcule a média final conforme\n",
    "#as regras da Unisinos. Imprima a média final na tela e diga se o aluno passou por média ou se\n",
    "#ficou em recuperação (grau C). Se o aluno ficou em recuperação, pergunte se ele quer substituir\n",
    "#o Grau A ou o Grau B (ele deve digitar ‘a’ ou ‘b’). Leia a nota do Grau C, recalcule a média de\n",
    "#acordo com o grau substituído e imprima na tela o resultado, informando se ele foi aprovado ou\n",
    "#reprovado."
   ]
  },
  {
   "cell_type": "code",
   "execution_count": 15,
   "metadata": {},
   "outputs": [
    {
     "name": "stdout",
     "output_type": "stream",
     "text": [
      "Digite a nota do grau A: 4.5\n",
      "Digite a nota do grau B: 2.6\n",
      "Você ficou em recuperação\n",
      "Você quer substituir a nota do grau A (digite A) ou grau B (digite B)? B\n",
      "Digite a nota do grau C: 9.7\n",
      "Você foi aprovado! Nota final: 8.0\n"
     ]
    }
   ],
   "source": [
    "grau_A = input('Digite a nota do grau A: ')\n",
    "grau_B = input('Digite a nota do grau B: ')\n",
    "\n",
    "media_final = 1/3*float(grau_A) + 2/3 * float(grau_B)\n",
    "\n",
    "if (media_final < 7):\n",
    "    print('Você ficou em recuperação')\n",
    "    substituir = input('Você quer substituir a nota do grau A (digite A) ou grau B (digite B)? ')\n",
    "    grau_C = input('Digite a nota do grau C: ')\n",
    "    if (substituir == 'A'):\n",
    "        media_final2 =  1/3*float(grau_C) + 2/3 * float(grau_B)\n",
    "    elif (substituir == 'B'):\n",
    "        media_final2 = 1/3*float(grau_A) + 2/3 * float(grau_C)\n",
    "    \n",
    "    if (media_final2 > 7):\n",
    "        print(f'Você foi aprovado! Nota final: {media_final2:.1f}')\n",
    "    else:\n",
    "        print(f'Você reprovou. Nota final: {media_final2:.1f} ')\n",
    "else:\n",
    "    print(f'Você foi aprovado! Nota final: {media_final:.1f} ')"
   ]
  },
  {
   "cell_type": "code",
   "execution_count": null,
   "metadata": {},
   "outputs": [],
   "source": []
  },
  {
   "cell_type": "code",
   "execution_count": null,
   "metadata": {},
   "outputs": [],
   "source": []
  }
 ],
 "metadata": {
  "kernelspec": {
   "display_name": "Python 3",
   "language": "python",
   "name": "python3"
  },
  "language_info": {
   "codemirror_mode": {
    "name": "ipython",
    "version": 3
   },
   "file_extension": ".py",
   "mimetype": "text/x-python",
   "name": "python",
   "nbconvert_exporter": "python",
   "pygments_lexer": "ipython3",
   "version": "3.8.5"
  }
 },
 "nbformat": 4,
 "nbformat_minor": 4
}
