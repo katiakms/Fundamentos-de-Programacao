{
 "cells": [
  {
   "cell_type": "code",
   "execution_count": 4,
   "metadata": {},
   "outputs": [
    {
     "name": "stdout",
     "output_type": "stream",
     "text": [
      "Entre a altura da pessoa em metros: 1.83\n",
      "Entre o sexo da pessoa (H - homem, M - mulher): H\n",
      "O peso ideal é:  75.041 kg\n"
     ]
    }
   ],
   "source": [
    "#Lista 5\n",
    "\n",
    "#5) Tendo como dados de entrada a altura e o sexo de uma pessoa, construa um algoritmo que calcule\n",
    "#seu peso ideal, utilizando as seguintes fórmulas:\n",
    "#- para homens: (72.7 * h) - 58;\n",
    "#- para mulheres: (62.1 * h) - 44.7.\n",
    "\n",
    "altura = input('Entre a altura da pessoa em metros: ')\n",
    "sexo = input('Entre o sexo da pessoa (H - homem, M - mulher): ')\n",
    "\n",
    "if (sexo == 'H'):\n",
    "    peso_ideal = (72.7 * float(altura)) - 58\n",
    "else:\n",
    "    peso_ideal = (62.1 * float(altura)) - 44.7\n",
    "    \n",
    "print('O peso ideal é: ', peso_ideal, 'kg')"
   ]
  },
  {
   "cell_type": "code",
   "execution_count": null,
   "metadata": {},
   "outputs": [],
   "source": []
  },
  {
   "cell_type": "code",
   "execution_count": null,
   "metadata": {},
   "outputs": [],
   "source": []
  }
 ],
 "metadata": {
  "kernelspec": {
   "display_name": "Python 3",
   "language": "python",
   "name": "python3"
  },
  "language_info": {
   "codemirror_mode": {
    "name": "ipython",
    "version": 3
   },
   "file_extension": ".py",
   "mimetype": "text/x-python",
   "name": "python",
   "nbconvert_exporter": "python",
   "pygments_lexer": "ipython3",
   "version": "3.8.5"
  }
 },
 "nbformat": 4,
 "nbformat_minor": 4
}
