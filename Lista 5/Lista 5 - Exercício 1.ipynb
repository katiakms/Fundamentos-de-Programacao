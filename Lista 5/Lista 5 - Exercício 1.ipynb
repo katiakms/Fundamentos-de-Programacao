{
 "cells": [
  {
   "cell_type": "code",
   "execution_count": 7,
   "metadata": {},
   "outputs": [
    {
     "name": "stdout",
     "output_type": "stream",
     "text": [
      "Entre um número inteiro: 9\n",
      "O número é divisível por 3\n"
     ]
    }
   ],
   "source": [
    "#Lista 5\n",
    "\n",
    "#1) Crie um programa que verifica se um número inteiro informado pelo usuário é divisível por 3.\n",
    "\n",
    "num = input('Entre um número inteiro: ')\n",
    "\n",
    "if (int(num)%3 == 0):\n",
    "    print('O número é divisível por 3')\n",
    "else:\n",
    "    print('O número não é divisível por 3')"
   ]
  },
  {
   "cell_type": "code",
   "execution_count": null,
   "metadata": {},
   "outputs": [],
   "source": []
  },
  {
   "cell_type": "code",
   "execution_count": null,
   "metadata": {},
   "outputs": [],
   "source": []
  },
  {
   "cell_type": "code",
   "execution_count": null,
   "metadata": {},
   "outputs": [],
   "source": []
  }
 ],
 "metadata": {
  "kernelspec": {
   "display_name": "Python 3",
   "language": "python",
   "name": "python3"
  },
  "language_info": {
   "codemirror_mode": {
    "name": "ipython",
    "version": 3
   },
   "file_extension": ".py",
   "mimetype": "text/x-python",
   "name": "python",
   "nbconvert_exporter": "python",
   "pygments_lexer": "ipython3",
   "version": "3.8.5"
  }
 },
 "nbformat": 4,
 "nbformat_minor": 4
}
