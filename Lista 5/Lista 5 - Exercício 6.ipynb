{
 "cells": [
  {
   "cell_type": "code",
   "execution_count": 68,
   "metadata": {},
   "outputs": [
    {
     "name": "stdout",
     "output_type": "stream",
     "text": [
      "Entre com o valor informado: 29\n",
      "1 nota(s) de R$ 20\n",
      "1 nota(s) de R$ 5\n",
      "4 nota(s) de R$ 1\n"
     ]
    }
   ],
   "source": [
    "#Lista 5\n",
    "\n",
    "#6) Crie um programa para informar quais e quantas notas são necessárias para entregar o mínimo\n",
    "#de cédulas para um determinado valor informado pelo usuário considerando notas de R$ 100,\n",
    "#R$ 50, R$ 20, R$ 10 e R$ 5 e R$ 1. Seu programa deve mostrar apenas as notas utilizadas. Por\n",
    "#exemplo, ao solicitar R$18, o programa deve informar apenas a seguinte informação (note que\n",
    "#não foram exibidas informações sobre as demais cédulas):\n",
    "#1 nota(s) de R$ 10.\n",
    "#1 nota(s) de R$ 5.\n",
    "#3 nota(s) de R$ 1.\n",
    "\n",
    "valor = input('Entre com o valor informado: ')\n",
    "\n",
    "temp = float(valor)\n",
    "\n",
    "div_100 = int(float(valor)/100)\n",
    "temp = temp - div_100*100\n",
    "\n",
    "div_50 = int(temp/50)\n",
    "temp = temp - div_50*50\n",
    "\n",
    "div_20 = int(temp/20)\n",
    "temp = temp - div_20*20\n",
    "\n",
    "div_10 = int(temp/10)\n",
    "temp = temp - div_10*10\n",
    "\n",
    "div_5 = int(temp/5)\n",
    "temp = temp - div_5*5\n",
    "\n",
    "div_1 = int(temp/1)\n",
    "temp = temp - div_1*1\n",
    "\n",
    "if (div_100 != 0):\n",
    "    print(div_100, 'nota(s) de R$ 100')\n",
    "if (div_50 != 0):\n",
    "    print(div_50, 'nota(s) de R$ 50')\n",
    "if (div_20 != 0):\n",
    "    print(div_20, 'nota(s) de R$ 20')\n",
    "if (div_10 != 0):\n",
    "    print(div_10, 'nota(s) de R$ 10')\n",
    "if (div_5 != 0):\n",
    "    print(div_5, 'nota(s) de R$ 5')\n",
    "if (div_1 != 0):\n",
    "    print(div_1, 'nota(s) de R$ 1')"
   ]
  },
  {
   "cell_type": "code",
   "execution_count": 63,
   "metadata": {},
   "outputs": [],
   "source": []
  },
  {
   "cell_type": "code",
   "execution_count": null,
   "metadata": {},
   "outputs": [],
   "source": []
  },
  {
   "cell_type": "code",
   "execution_count": null,
   "metadata": {},
   "outputs": [],
   "source": []
  },
  {
   "cell_type": "code",
   "execution_count": null,
   "metadata": {},
   "outputs": [],
   "source": []
  },
  {
   "cell_type": "code",
   "execution_count": null,
   "metadata": {},
   "outputs": [],
   "source": []
  },
  {
   "cell_type": "code",
   "execution_count": null,
   "metadata": {},
   "outputs": [],
   "source": []
  },
  {
   "cell_type": "code",
   "execution_count": null,
   "metadata": {},
   "outputs": [],
   "source": []
  },
  {
   "cell_type": "code",
   "execution_count": null,
   "metadata": {},
   "outputs": [],
   "source": []
  },
  {
   "cell_type": "code",
   "execution_count": null,
   "metadata": {},
   "outputs": [],
   "source": []
  }
 ],
 "metadata": {
  "kernelspec": {
   "display_name": "Python 3",
   "language": "python",
   "name": "python3"
  },
  "language_info": {
   "codemirror_mode": {
    "name": "ipython",
    "version": 3
   },
   "file_extension": ".py",
   "mimetype": "text/x-python",
   "name": "python",
   "nbconvert_exporter": "python",
   "pygments_lexer": "ipython3",
   "version": "3.8.5"
  }
 },
 "nbformat": 4,
 "nbformat_minor": 4
}
