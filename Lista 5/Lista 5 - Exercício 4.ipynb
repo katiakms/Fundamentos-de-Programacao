{
 "cells": [
  {
   "cell_type": "code",
   "execution_count": 2,
   "metadata": {},
   "outputs": [],
   "source": [
    "#Lista 5\n",
    "\n",
    "#4)Um comerciante comprou um produto e quer vendê-lo com lucros diferentes dependendo do valor da compra. \n",
    "#Ele quer um lucro de 45% se o valor da compra for menor que R$ 20,00, 35% se o preço for de até 50 reais e\n",
    "#lucro de 25% se valor for maior. Entrar com o valor do produto e imprimir na tela o valor de venda."
   ]
  },
  {
   "cell_type": "code",
   "execution_count": 7,
   "metadata": {},
   "outputs": [
    {
     "name": "stdout",
     "output_type": "stream",
     "text": [
      "Entre o valor do produto: 100\n",
      "O valor de venda é:  125.0\n"
     ]
    }
   ],
   "source": [
    "valor = input('Entre o valor do produto: ')\n",
    "\n",
    "if (float(valor) < 20):\n",
    "    lucro = 45/100\n",
    "elif (float(valor) < 50):\n",
    "    lucro = 35/100\n",
    "else:\n",
    "    lucro = 25/100\n",
    "\n",
    "valor_final = float(valor) + float(valor)*lucro\n",
    "    \n",
    "print('O valor de venda é: ', valor_final)"
   ]
  },
  {
   "cell_type": "code",
   "execution_count": null,
   "metadata": {},
   "outputs": [],
   "source": []
  },
  {
   "cell_type": "code",
   "execution_count": null,
   "metadata": {},
   "outputs": [],
   "source": []
  }
 ],
 "metadata": {
  "kernelspec": {
   "display_name": "Python 3",
   "language": "python",
   "name": "python3"
  },
  "language_info": {
   "codemirror_mode": {
    "name": "ipython",
    "version": 3
   },
   "file_extension": ".py",
   "mimetype": "text/x-python",
   "name": "python",
   "nbconvert_exporter": "python",
   "pygments_lexer": "ipython3",
   "version": "3.8.5"
  }
 },
 "nbformat": 4,
 "nbformat_minor": 4
}
