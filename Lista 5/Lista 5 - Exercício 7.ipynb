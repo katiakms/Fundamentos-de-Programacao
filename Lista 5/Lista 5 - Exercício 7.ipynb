{
 "cells": [
  {
   "cell_type": "code",
   "execution_count": 10,
   "metadata": {},
   "outputs": [
    {
     "name": "stdout",
     "output_type": "stream",
     "text": [
      "Entre a idade do nadador: 15\n",
      "Categoria Juvenil A\n"
     ]
    }
   ],
   "source": [
    "#Lista 5\n",
    "\n",
    "#7)  A confederação brasileira de natação irá promover eliminatórias para o próximo mundial. Fazer\n",
    "#um algoritmo que receba a idade de um nadador e imprima a sua categoria segundo a tabela a seguir:\n",
    "\n",
    "idade = input('Entre a idade do nadador: ')\n",
    "\n",
    "if (5 <= int(idade) <= 7):\n",
    "    print('Categoria Infantil A')\n",
    "elif (8 <= int(idade) <= 10):\n",
    "    print('Categoria Infantil B')\n",
    "elif (11 <= int(idade) <= 13):\n",
    "    print('Categoria Juvenil A')\n",
    "elif (14 <= int(idade) <= 17):\n",
    "    print('Categoria Juvenil B')\n",
    "elif (int(idade) >= 18):\n",
    "    print('Categoria Sênior')"
   ]
  },
  {
   "cell_type": "code",
   "execution_count": null,
   "metadata": {},
   "outputs": [],
   "source": []
  },
  {
   "cell_type": "code",
   "execution_count": null,
   "metadata": {},
   "outputs": [],
   "source": []
  }
 ],
 "metadata": {
  "kernelspec": {
   "display_name": "Python 3",
   "language": "python",
   "name": "python3"
  },
  "language_info": {
   "codemirror_mode": {
    "name": "ipython",
    "version": 3
   },
   "file_extension": ".py",
   "mimetype": "text/x-python",
   "name": "python",
   "nbconvert_exporter": "python",
   "pygments_lexer": "ipython3",
   "version": "3.8.5"
  }
 },
 "nbformat": 4,
 "nbformat_minor": 4
}
