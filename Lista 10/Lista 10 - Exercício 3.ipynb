{
 "cells": [
  {
   "cell_type": "code",
   "execution_count": 1,
   "metadata": {},
   "outputs": [],
   "source": [
    "#Lista 10\n",
    "\n",
    "#3) Faça um programa que gere a seguinte matriz:\n",
    "\n",
    "# 1 2 3 4 3 2 1\n",
    "# 2 3 4 5 4 3 2\n",
    "# 3 4 5 6 5 4 3\n",
    "# 3 4 5 6 5 4 3\n",
    "# 2 3 4 5 4 3 2\n",
    "# 1 2 3 4 3 2 1"
   ]
  },
  {
   "cell_type": "code",
   "execution_count": 2,
   "metadata": {},
   "outputs": [],
   "source": [
    "import numpy as np"
   ]
  },
  {
   "cell_type": "code",
   "execution_count": 47,
   "metadata": {},
   "outputs": [
    {
     "name": "stdout",
     "output_type": "stream",
     "text": [
      "[[1. 2. 3. 4. 3. 2. 1.]\n",
      " [2. 3. 4. 5. 4. 3. 2.]\n",
      " [3. 4. 5. 6. 5. 4. 3.]\n",
      " [3. 4. 5. 6. 5. 4. 3.]\n",
      " [2. 3. 4. 5. 4. 3. 2.]\n",
      " [1. 2. 3. 4. 3. 2. 1.]]\n"
     ]
    }
   ],
   "source": [
    "A = np.zeros([6,7])\n",
    "cont = 0\n",
    "cont2 = 1\n",
    "\n",
    "for i in range(0,6):\n",
    "    if i == 1 or i == 2:\n",
    "        cont = cont+i  \n",
    "    for j in range(0,7):      \n",
    "        A[i,j] = 1 + cont\n",
    "        if j >= 3:\n",
    "            if cont != 0:\n",
    "                cont = cont-1\n",
    "        else:\n",
    "            cont = cont+1\n",
    "    if i >= 3:\n",
    "        A[i,:] = A[i-cont2,:]\n",
    "        cont2 = cont2+2\n",
    "    \n",
    "        \n",
    "print(A)"
   ]
  },
  {
   "cell_type": "code",
   "execution_count": null,
   "metadata": {},
   "outputs": [],
   "source": []
  },
  {
   "cell_type": "code",
   "execution_count": null,
   "metadata": {},
   "outputs": [],
   "source": []
  },
  {
   "cell_type": "code",
   "execution_count": null,
   "metadata": {},
   "outputs": [],
   "source": []
  },
  {
   "cell_type": "code",
   "execution_count": null,
   "metadata": {},
   "outputs": [],
   "source": []
  }
 ],
 "metadata": {
  "kernelspec": {
   "display_name": "Python 3",
   "language": "python",
   "name": "python3"
  },
  "language_info": {
   "codemirror_mode": {
    "name": "ipython",
    "version": 3
   },
   "file_extension": ".py",
   "mimetype": "text/x-python",
   "name": "python",
   "nbconvert_exporter": "python",
   "pygments_lexer": "ipython3",
   "version": "3.8.5"
  }
 },
 "nbformat": 4,
 "nbformat_minor": 4
}
