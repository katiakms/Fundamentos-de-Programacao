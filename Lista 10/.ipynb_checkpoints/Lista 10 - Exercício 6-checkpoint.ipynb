{
 "cells": [
  {
   "cell_type": "code",
   "execution_count": 1,
   "metadata": {},
   "outputs": [],
   "source": [
    "#Lista 10\n",
    "\n",
    "#6) Leia uma matriz 5x10 que se refere respostas de 10 questões de múltipla escolha, referentes a 5 alunos. \n",
    "#Leia também um vetor de 10 posições contendo o gabarito de respostas que podem ser a, b, c ou d. \n",
    "#Seu programa deverá comparar as respostas de cada candidato com o gabarito e emitir um\n",
    "#vetor denominado resultado, contendo a pontuação correspondente a cada aluno."
   ]
  },
  {
   "cell_type": "code",
   "execution_count": 3,
   "metadata": {},
   "outputs": [],
   "source": [
    "import numpy as np"
   ]
  },
  {
   "cell_type": "code",
   "execution_count": 71,
   "metadata": {},
   "outputs": [
    {
     "name": "stdout",
     "output_type": "stream",
     "text": [
      "Aluno 1 digite a respota da questão 1: a\n",
      "Aluno 1 digite a respota da questão 2: b\n",
      "Aluno 1 digite a respota da questão 3: c\n",
      "Aluno 1 digite a respota da questão 4: d\n",
      "Aluno 1 digite a respota da questão 5: d\n",
      "Aluno 1 digite a respota da questão 6: c\n",
      "Aluno 1 digite a respota da questão 7: b\n",
      "Aluno 1 digite a respota da questão 8: a\n",
      "Aluno 1 digite a respota da questão 9: c\n",
      "Aluno 1 digite a respota da questão 10: a\n",
      "Aluno 2 digite a respota da questão 1: b\n",
      "Aluno 2 digite a respota da questão 2: c\n",
      "Aluno 2 digite a respota da questão 3: d\n",
      "Aluno 2 digite a respota da questão 4: a\n",
      "Aluno 2 digite a respota da questão 5: a\n",
      "Aluno 2 digite a respota da questão 6: b\n",
      "Aluno 2 digite a respota da questão 7: b\n",
      "Aluno 2 digite a respota da questão 8: c\n",
      "Aluno 2 digite a respota da questão 9: c\n",
      "Aluno 2 digite a respota da questão 10: d\n",
      "Aluno 3 digite a respota da questão 1: a\n",
      "Aluno 3 digite a respota da questão 2: b\n",
      "Aluno 3 digite a respota da questão 3: c\n",
      "Aluno 3 digite a respota da questão 4: d\n",
      "Aluno 3 digite a respota da questão 5: e\n",
      "Aluno 3 digite a respota da questão 6: d\n",
      "Aluno 3 digite a respota da questão 7: d\n",
      "Aluno 3 digite a respota da questão 8: c\n",
      "Aluno 3 digite a respota da questão 9: d\n",
      "Aluno 3 digite a respota da questão 10: d\n",
      "Aluno 4 digite a respota da questão 1: a\n",
      "Aluno 4 digite a respota da questão 2: b\n",
      "Aluno 4 digite a respota da questão 3: c\n",
      "Aluno 4 digite a respota da questão 4: d\n",
      "Aluno 4 digite a respota da questão 5: b\n",
      "Aluno 4 digite a respota da questão 6: b\n",
      "Aluno 4 digite a respota da questão 7: c\n",
      "Aluno 4 digite a respota da questão 8: d\n",
      "Aluno 4 digite a respota da questão 9: c\n",
      "Aluno 4 digite a respota da questão 10: d\n",
      "Aluno 5 digite a respota da questão 1: a\n",
      "Aluno 5 digite a respota da questão 2: b\n",
      "Aluno 5 digite a respota da questão 3: c\n",
      "Aluno 5 digite a respota da questão 4: a\n",
      "Aluno 5 digite a respota da questão 5: c\n",
      "Aluno 5 digite a respota da questão 6: d\n",
      "Aluno 5 digite a respota da questão 7: d\n",
      "Aluno 5 digite a respota da questão 8: e\n",
      "Aluno 5 digite a respota da questão 9: d\n",
      "Aluno 5 digite a respota da questão 10: c\n",
      "Digite o gabarito da questão 1: a\n",
      "Digite o gabarito da questão 2: b\n",
      "Digite o gabarito da questão 3: c\n",
      "Digite o gabarito da questão 4: d\n",
      "Digite o gabarito da questão 5: c\n",
      "Digite o gabarito da questão 6: c\n",
      "Digite o gabarito da questão 7: b\n",
      "Digite o gabarito da questão 8: d\n",
      "Digite o gabarito da questão 9: d\n",
      "Digite o gabarito da questão 10: d\n",
      "Resultado: \n",
      "Aluno 1 nota 6.0 \n",
      "Aluno 2 nota 2.0 \n",
      "Aluno 3 nota 6.0\n",
      "Aluno 4 nota 6.0 \n",
      "Aluno 5 nota 5.0\n"
     ]
    }
   ],
   "source": [
    "A = np.empty([5,10], dtype = str)\n",
    "gabarito = np.empty([10], dtype = str)\n",
    "correcao = np.zeros([5,10])\n",
    "\n",
    "for i in range(0,5):\n",
    "    for j in range(0,10):\n",
    "        A[i,j] = input('Aluno {} digite a respota da questão {}: '.format(i+1,j+1))\n",
    "        \n",
    "\n",
    "for i in range(0,10):\n",
    "    gabarito[i] = input('Digite o gabarito da questão {}: '.format(i+1))\n",
    "    \n",
    "for i in range(0,5):\n",
    "    for j in range(0,10):\n",
    "        if A[i,j] == gabarito[j]:\n",
    "            correcao[i,j] = 1\n",
    "            \n",
    "result = [sum(correcao[0,:]), sum(correcao[1,:]), sum(correcao[2,:]), sum(correcao[3,:]), sum(correcao[4,:])]\n",
    "\n",
    "print('Resultado: \\nAluno 1 nota',result[0],'\\nAluno 2 nota',result[1],'\\nAluno 3 nota',result[2])\n",
    "print('Aluno 4 nota',result[3],'\\nAluno 5 nota',result[4])"
   ]
  },
  {
   "cell_type": "code",
   "execution_count": null,
   "metadata": {},
   "outputs": [],
   "source": []
  },
  {
   "cell_type": "code",
   "execution_count": null,
   "metadata": {},
   "outputs": [],
   "source": []
  },
  {
   "cell_type": "code",
   "execution_count": null,
   "metadata": {},
   "outputs": [],
   "source": []
  },
  {
   "cell_type": "code",
   "execution_count": null,
   "metadata": {},
   "outputs": [],
   "source": []
  },
  {
   "cell_type": "code",
   "execution_count": null,
   "metadata": {},
   "outputs": [],
   "source": []
  }
 ],
 "metadata": {
  "kernelspec": {
   "display_name": "Python 3",
   "language": "python",
   "name": "python3"
  },
  "language_info": {
   "codemirror_mode": {
    "name": "ipython",
    "version": 3
   },
   "file_extension": ".py",
   "mimetype": "text/x-python",
   "name": "python",
   "nbconvert_exporter": "python",
   "pygments_lexer": "ipython3",
   "version": "3.8.5"
  }
 },
 "nbformat": 4,
 "nbformat_minor": 4
}
