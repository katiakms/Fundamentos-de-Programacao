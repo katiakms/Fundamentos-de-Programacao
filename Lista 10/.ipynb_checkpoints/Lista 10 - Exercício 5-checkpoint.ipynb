{
 "cells": [
  {
   "cell_type": "code",
   "execution_count": 1,
   "metadata": {},
   "outputs": [],
   "source": [
    "#Lista 10\n",
    "\n",
    "#5)Fazer um programa que armazene os valores arrecadados por uma loja em cada um dos três turnos\n",
    "#(manhã, tarde, noite) durante uma semana (segunda até sábado). Ao final da semana indicar:\n",
    "#a) Exibir todas as vendas de cada dia da semana (na forma de tabela)\n",
    "#b) Qual o turno com maior venda\n",
    "#c) Qual o turno com menor venda\n",
    "#d) Qual o dia da semana com maior venda\n",
    "#e) Qual o dia da semana com menor venda\n",
    "#f) Qual o total arrecadado durante a semana\n",
    "#Resolver o problema utilizando uma matriz com um tamanho definido por você."
   ]
  },
  {
   "cell_type": "code",
   "execution_count": 73,
   "metadata": {},
   "outputs": [],
   "source": [
    "import numpy as np\n",
    "import pandas as pd"
   ]
  },
  {
   "cell_type": "code",
   "execution_count": 70,
   "metadata": {},
   "outputs": [
    {
     "name": "stdout",
     "output_type": "stream",
     "text": [
      "Dia: segunda Turno: manhã\n",
      "Digite o valor arrecadado: 1\n",
      "Dia: segunda Turno: tarde\n",
      "Digite o valor arrecadado: 2\n",
      "Dia: segunda Turno: noite\n",
      "Digite o valor arrecadado: 3\n",
      "Dia: terça Turno: manhã\n",
      "Digite o valor arrecadado: 4\n",
      "Dia: terça Turno: tarde\n",
      "Digite o valor arrecadado: 5\n",
      "Dia: terça Turno: noite\n",
      "Digite o valor arrecadado: 6\n",
      "Dia: quarta Turno: manhã\n",
      "Digite o valor arrecadado: 7\n",
      "Dia: quarta Turno: tarde\n",
      "Digite o valor arrecadado: 8\n",
      "Dia: quarta Turno: noite\n",
      "Digite o valor arrecadado: 9\n",
      "Dia: quinta Turno: manhã\n",
      "Digite o valor arrecadado: 10\n",
      "Dia: quinta Turno: tarde\n",
      "Digite o valor arrecadado: 11\n",
      "Dia: quinta Turno: noite\n",
      "Digite o valor arrecadado: 10\n",
      "Dia: sexta Turno: manhã\n",
      "Digite o valor arrecadado: 9\n",
      "Dia: sexta Turno: tarde\n",
      "Digite o valor arrecadado: 8\n",
      "Dia: sexta Turno: noite\n",
      "Digite o valor arrecadado: 76\n",
      "Dia: sábado Turno: manhã\n",
      "Digite o valor arrecadado: 6\n",
      "Dia: sábado Turno: tarde\n",
      "Digite o valor arrecadado: 4\n",
      "Dia: sábado Turno: noite\n",
      "Digite o valor arrecadado: 2\n"
     ]
    }
   ],
   "source": [
    "A = np.zeros([6,3]) #linhas = dia da semana, coluna = turno\n",
    "turnos = ['Manhã', 'Tarde', 'Noite']\n",
    "dia_semana = ['Segunda', 'Terça', 'Quarta', 'Quinta', 'Sexta', 'Sábado']\n",
    "\n",
    "menor = 0\n",
    "total = 0\n",
    "\n",
    "for i in range(0,len(dia_semana)):\n",
    "    for j in range(0,len(turnos)):\n",
    "        print('Dia:', dia_semana[i],'Turno:', turnos[j])\n",
    "        a = float(input('Digite o valor arrecadado: '))\n",
    "        A[i,j] = a\n",
    "        total = total+a"
   ]
  },
  {
   "cell_type": "code",
   "execution_count": null,
   "metadata": {},
   "outputs": [],
   "source": [
    "venda_turnos = [sum(A[:,0]),sum(A[:,1]),sum(A[:,2])] #vetor com o total de vendas de cada turno\n",
    "venda_dia = [sum(A[0,:]),sum(A[1,:]),sum(A[2,:]),sum(A[3,:]),sum(A[4,:]),sum(A[5,:]),] #vetor com o total de vendas de cada dia\n",
    "\n",
    "maior_dia = venda_dia.index(max(venda_dia)) #acha a posição no vetor da maior venda entre os turnos\n",
    "maior_turno = venda_turnos.index(max(venda_turnos)) #acha a posição no vetor da maior venda entre os dias\n",
    "\n",
    "menor_dia = venda_dia.index(min(venda_dia)) #acha a posição no vetor da menor venda entre os turnos\n",
    "menor_turno = venda_turnos.index(min(venda_turnos)) #acha a posição no vetor da menor venda entre os dias\n",
    "\n",
    "df = pd.DataFrame(A, dia_semana, turnos) #transforma matriz A em um dataframe (tabela)\n",
    "print(df)\n",
    "print('Turno com maior venda:',turnos[maior_turno])\n",
    "print('Dia da semana com maior venda:',dia_semana[maior_dia])\n",
    "print('Turno com menor venda:',turnos[menor_turno])\n",
    "print('Dia da semana com menor venda:',dia_semana[menor_dia])"
   ]
  },
  {
   "cell_type": "code",
   "execution_count": null,
   "metadata": {},
   "outputs": [],
   "source": []
  },
  {
   "cell_type": "code",
   "execution_count": null,
   "metadata": {},
   "outputs": [],
   "source": []
  },
  {
   "cell_type": "code",
   "execution_count": null,
   "metadata": {},
   "outputs": [],
   "source": []
  },
  {
   "cell_type": "code",
   "execution_count": null,
   "metadata": {},
   "outputs": [],
   "source": []
  }
 ],
 "metadata": {
  "kernelspec": {
   "display_name": "Python 3",
   "language": "python",
   "name": "python3"
  },
  "language_info": {
   "codemirror_mode": {
    "name": "ipython",
    "version": 3
   },
   "file_extension": ".py",
   "mimetype": "text/x-python",
   "name": "python",
   "nbconvert_exporter": "python",
   "pygments_lexer": "ipython3",
   "version": "3.8.5"
  }
 },
 "nbformat": 4,
 "nbformat_minor": 4
}
