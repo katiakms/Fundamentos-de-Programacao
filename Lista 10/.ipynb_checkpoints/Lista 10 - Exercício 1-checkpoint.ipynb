{
 "cells": [
  {
   "cell_type": "code",
   "execution_count": 1,
   "metadata": {},
   "outputs": [],
   "source": [
    "#Lista 10\n",
    "\n",
    "#1) Faça um programa que preencha uma matriz 4x5 com números inteiros randômicos. \n",
    "#Mostre essa matriz na tela e informe a posição e o valor do maior e do menor número encontrado."
   ]
  },
  {
   "cell_type": "code",
   "execution_count": 4,
   "metadata": {},
   "outputs": [],
   "source": [
    "from random import randint\n",
    "import numpy as np"
   ]
  },
  {
   "cell_type": "code",
   "execution_count": 5,
   "metadata": {},
   "outputs": [
    {
     "name": "stdout",
     "output_type": "stream",
     "text": [
      "[[ 13. 100.  20.  97.  88.]\n",
      " [ 38.  27.  25.   8.  99.]\n",
      " [ 20.  96.  33.  95.  12.]\n",
      " [  7.  18.  52.  22.  44.]]\n",
      "Máximo valor: 100.0 encontrado na linha 1 e coluna 2\n",
      "Mínimo valor: 7.0 encontrado na linha 4 e coluna 1\n"
     ]
    }
   ],
   "source": [
    "matriz = np.zeros([4,5]) #cria matriz nula\n",
    "maximo = 0\n",
    "minimo = 100\n",
    "\n",
    "#preenche a matriz\n",
    "for i in range(0,4):\n",
    "    for j in range(0,5):\n",
    "        n = randint(0,100)\n",
    "        matriz[i,j] = n\n",
    "        if matriz[i,j] > maximo:\n",
    "            maximo = matriz[i,j]\n",
    "            pos_max = [i,j]\n",
    "        if matriz[i,j] < minimo:\n",
    "            minimo = matriz[i,j]\n",
    "            pos_min = [i,j]\n",
    "        \n",
    "print(matriz)\n",
    "print('Máximo valor:', maximo, 'encontrado na linha',pos_max[0]+1, 'e coluna', pos_max[1]+1)\n",
    "print('Mínimo valor:', minimo, 'encontrado na linha',pos_min[0]+1, 'e coluna', pos_min[1]+1)"
   ]
  },
  {
   "cell_type": "code",
   "execution_count": null,
   "metadata": {},
   "outputs": [],
   "source": []
  },
  {
   "cell_type": "code",
   "execution_count": null,
   "metadata": {},
   "outputs": [],
   "source": []
  },
  {
   "cell_type": "code",
   "execution_count": null,
   "metadata": {},
   "outputs": [],
   "source": []
  }
 ],
 "metadata": {
  "kernelspec": {
   "display_name": "Python 3",
   "language": "python",
   "name": "python3"
  },
  "language_info": {
   "codemirror_mode": {
    "name": "ipython",
    "version": 3
   },
   "file_extension": ".py",
   "mimetype": "text/x-python",
   "name": "python",
   "nbconvert_exporter": "python",
   "pygments_lexer": "ipython3",
   "version": "3.8.5"
  }
 },
 "nbformat": 4,
 "nbformat_minor": 4
}
