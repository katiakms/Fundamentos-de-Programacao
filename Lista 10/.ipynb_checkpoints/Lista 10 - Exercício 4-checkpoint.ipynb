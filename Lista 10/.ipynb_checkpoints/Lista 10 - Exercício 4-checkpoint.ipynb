{
 "cells": [
  {
   "cell_type": "code",
   "execution_count": 1,
   "metadata": {},
   "outputs": [],
   "source": [
    "#Lista 10\n",
    "\n",
    "#4) Ler a diagonal principal de uma matriz de 4x4 e preencher as células acima da diagonal com 1 e as\n",
    "#abaixo com 2."
   ]
  },
  {
   "cell_type": "code",
   "execution_count": 16,
   "metadata": {},
   "outputs": [],
   "source": [
    "import numpy as np"
   ]
  },
  {
   "cell_type": "code",
   "execution_count": 30,
   "metadata": {},
   "outputs": [
    {
     "name": "stdout",
     "output_type": "stream",
     "text": [
      "Matriz A antes:\n",
      " [[6 9 6 4]\n",
      " [1 4 9 2]\n",
      " [8 9 6 6]\n",
      " [2 8 9 6]]\n",
      "\n",
      "Matriz A depois:\n",
      " [[6 1 1 1]\n",
      " [2 4 1 1]\n",
      " [2 2 6 1]\n",
      " [2 2 2 6]]\n"
     ]
    }
   ],
   "source": [
    "A = np.random.randint(10,size=[4,4]) #matriz aleatória\n",
    "print('Matriz A antes:\\n',A)\n",
    "\n",
    "for i in range(0,4):\n",
    "    for j in range(0,4):\n",
    "        if i > j:\n",
    "            A[i,j] = 2\n",
    "        elif i < j:\n",
    "            A[i,j] = 1\n",
    "print('\\nMatriz A depois:\\n',A,)"
   ]
  },
  {
   "cell_type": "code",
   "execution_count": null,
   "metadata": {},
   "outputs": [],
   "source": []
  },
  {
   "cell_type": "code",
   "execution_count": null,
   "metadata": {},
   "outputs": [],
   "source": []
  },
  {
   "cell_type": "code",
   "execution_count": null,
   "metadata": {},
   "outputs": [],
   "source": []
  }
 ],
 "metadata": {
  "kernelspec": {
   "display_name": "Python 3",
   "language": "python",
   "name": "python3"
  },
  "language_info": {
   "codemirror_mode": {
    "name": "ipython",
    "version": 3
   },
   "file_extension": ".py",
   "mimetype": "text/x-python",
   "name": "python",
   "nbconvert_exporter": "python",
   "pygments_lexer": "ipython3",
   "version": "3.8.5"
  }
 },
 "nbformat": 4,
 "nbformat_minor": 4
}
