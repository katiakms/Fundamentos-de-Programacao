{
 "cells": [
  {
   "cell_type": "code",
   "execution_count": 1,
   "metadata": {},
   "outputs": [],
   "source": [
    "#Lista 10\n",
    "\n",
    "#2) Uma matriz quadrada inteira é chamada de \"quadrado mágico\" se a soma dos elementos de cada\n",
    "#linha, a soma dos elementos de cada coluna e a soma dos elementos das diagonais principal e\n",
    "#secundária são todos iguais. Exemplo: As matrizes abaixo representam quadrados mágicos:\n",
    "# | 8 0 7 | | 4 9 2 |\n",
    "# | 4 5 6 | | 3 5 7 |\n",
    "# | 3 10 2 | | 8 1 6 |\n",
    "#Escreva um programa que verifica se uma matriz de 3 linhas e 3 colunas representa um quadrado mágico."
   ]
  },
  {
   "cell_type": "code",
   "execution_count": 111,
   "metadata": {},
   "outputs": [],
   "source": [
    "import numpy as np"
   ]
  },
  {
   "cell_type": "code",
   "execution_count": 124,
   "metadata": {},
   "outputs": [],
   "source": [
    "def verifica_matriz(A):\n",
    "    linha = np.zeros([3])\n",
    "    coluna = np.zeros([3])\n",
    "    diag_princp = 0\n",
    "    diag_sec =  A[0,2] +  A[1,1] +  A[2,0]\n",
    "    for i in range(0,3):       \n",
    "        for j in range(0,3):   \n",
    "            linha[i] = linha[i] + A[i,j]\n",
    "            coluna[j] = coluna[j] + A[i,j]\n",
    "            if i == j:\n",
    "                diag_princp = diag_princp + A[i,j]\n",
    "    \n",
    "    if linha[0] == linha[1] == linha[2] == coluna[0] == coluna[1] == coluna[2] == diag_princp == diag_sec:\n",
    "        print('A matriz representa um quadrado mágico!')"
   ]
  },
  {
   "cell_type": "code",
   "execution_count": 126,
   "metadata": {},
   "outputs": [
    {
     "name": "stdout",
     "output_type": "stream",
     "text": [
      "A matriz representa um quadrado mágico!\n"
     ]
    }
   ],
   "source": [
    "A = np.array([[4, 9, 2], [3, 5, 7], [8, 1, 6]])\n",
    "verifica_matriz(A)"
   ]
  },
  {
   "cell_type": "code",
   "execution_count": null,
   "metadata": {},
   "outputs": [],
   "source": []
  },
  {
   "cell_type": "code",
   "execution_count": null,
   "metadata": {},
   "outputs": [],
   "source": []
  },
  {
   "cell_type": "code",
   "execution_count": null,
   "metadata": {},
   "outputs": [],
   "source": []
  },
  {
   "cell_type": "code",
   "execution_count": null,
   "metadata": {},
   "outputs": [],
   "source": []
  },
  {
   "cell_type": "code",
   "execution_count": null,
   "metadata": {},
   "outputs": [],
   "source": []
  }
 ],
 "metadata": {
  "kernelspec": {
   "display_name": "Python 3",
   "language": "python",
   "name": "python3"
  },
  "language_info": {
   "codemirror_mode": {
    "name": "ipython",
    "version": 3
   },
   "file_extension": ".py",
   "mimetype": "text/x-python",
   "name": "python",
   "nbconvert_exporter": "python",
   "pygments_lexer": "ipython3",
   "version": "3.8.5"
  }
 },
 "nbformat": 4,
 "nbformat_minor": 4
}
