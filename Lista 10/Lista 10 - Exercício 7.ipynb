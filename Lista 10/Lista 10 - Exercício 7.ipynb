{
 "cells": [
  {
   "cell_type": "code",
   "execution_count": 1,
   "metadata": {},
   "outputs": [],
   "source": [
    "#Lista 10\n",
    "\n",
    "#7) Usando uma matriz 3x3 crie um jogo da velha. O jogador número 1 usa o X e o jogador 2 é representado pelo O.\n",
    "#O programa deve sortear quem inicia o jogo. O jogador deve indicar a linha e a coluna que quer jogar. \n",
    "#Se a casa já estiver ocupada o jogador deve selecionar outra casa. \n",
    "#Ganha quem fizer uma sequência de símbolos iguais em uma linha, coluna ou diagonal."
   ]
  },
  {
   "cell_type": "code",
   "execution_count": 3,
   "metadata": {},
   "outputs": [],
   "source": [
    "import numpy as np\n",
    "from random import randint"
   ]
  },
  {
   "cell_type": "code",
   "execution_count": 120,
   "metadata": {},
   "outputs": [
    {
     "name": "stdout",
     "output_type": "stream",
     "text": [
      "Quem começa é jogador 1\n",
      "\n",
      "  |  |  \n",
      " __________ \n",
      "  |  |   \n",
      " __________ \n",
      "  |  | \n",
      "Indica a linha que quer jogar: 3\n",
      "Indica a coluna que quer jogar: 3\n",
      "\n",
      "  |  |  \n",
      " __________ \n",
      "  |  |   \n",
      " __________ \n",
      "  |  | X\n",
      "Indica a linha que quer jogar: 1\n",
      "Indica a coluna que quer jogar: 1\n",
      "\n",
      " O |  |  \n",
      " __________ \n",
      "  |  |   \n",
      " __________ \n",
      "  |  | X\n",
      "Indica a linha que quer jogar: 2\n",
      "Indica a coluna que quer jogar: 1\n",
      "\n",
      " O |  |  \n",
      " __________ \n",
      " X |  |   \n",
      " __________ \n",
      "  |  | X\n",
      "Indica a linha que quer jogar: 2\n",
      "Indica a coluna que quer jogar: 1\n",
      "Espaço ocupado, escolha outra casa!\n",
      "Indica a linha que quer jogar: 1\n",
      "Indica a coluna que quer jogar: 2\n",
      "\n",
      " O | O |  \n",
      " __________ \n",
      " X |  |   \n",
      " __________ \n",
      "  |  | X\n",
      "Indica a linha que quer jogar: 3\n",
      "Indica a coluna que quer jogar: 1\n",
      "\n",
      " O | O |  \n",
      " __________ \n",
      " X |  |   \n",
      " __________ \n",
      " X |  | X\n",
      "Indica a linha que quer jogar: 1\n",
      "Indica a coluna que quer jogar: 3\n",
      "\n",
      " O | O | O \n",
      " __________ \n",
      " X |  |   \n",
      " __________ \n",
      " X |  | X\n",
      "Jogador 2 ganhou!\n"
     ]
    }
   ],
   "source": [
    "A = np.empty([3,3], dtype = str)\n",
    "j = np.zeros([3,3])\n",
    "\n",
    "jogador = randint(1,2)\n",
    "\n",
    "print('Quem começa é jogador', jogador)\n",
    "parar = 0\n",
    "\n",
    "while parar == 0:\n",
    "    print('\\n',A[0,0],'|', A[0,1] ,'|', A[0,2], '\\n __________ \\n',A[1,0],'|', A[1,1] ,'|', A[1,2],' \\n __________ \\n', A[2,0],'|', A[2,1] ,'|', A[2,2],)    \n",
    "    linha = int(input('Indica a linha que quer jogar: '))\n",
    "    coluna = int(input('Indica a coluna que quer jogar: '))\n",
    "    if A[linha-1,coluna-1]:\n",
    "        print('Espaço ocupado, escolha outra casa!')\n",
    "        linha = int(input('Indica a linha que quer jogar: '))\n",
    "        coluna = int(input('Indica a coluna que quer jogar: '))\n",
    "    if jogador == 1:\n",
    "        A[linha-1,coluna-1] = 'X'\n",
    "        j[linha-1,coluna-1] = 1\n",
    "        jogador = 2\n",
    "    else:\n",
    "        A[linha-1,coluna-1] = 'O'\n",
    "        j[linha-1,coluna-1] = -1\n",
    "        jogador = 1\n",
    "        \n",
    "    parar = verificar_ganhou(j)\n",
    "    \n",
    "    if parar == 1:\n",
    "        print('\\n',A[0,0],'|', A[0,1] ,'|', A[0,2], '\\n __________ \\n',A[1,0],'|', A[1,1] ,'|', A[1,2],' \\n __________ \\n', A[2,0],'|', A[2,1] ,'|', A[2,2],)    \n",
    "        if jogador == 1:\n",
    "            print('Jogador 2 ganhou!')\n",
    "        if jogador == 2:\n",
    "            print('Jogador 1 ganhou!')"
   ]
  },
  {
   "cell_type": "code",
   "execution_count": null,
   "metadata": {},
   "outputs": [],
   "source": []
  },
  {
   "cell_type": "code",
   "execution_count": 118,
   "metadata": {},
   "outputs": [],
   "source": [
    "def verificar_ganhou(A):\n",
    "    for i in range(0,3): #checar as linhas do tabuleiro\n",
    "        soma = A[i,0] + A[i,1] + A[i,2]\n",
    "        if soma == 3 or soma == -3:\n",
    "            return 1\n",
    "\n",
    "    for i in range(0,3): #checar as colunas do tabuleiro\n",
    "        soma = A[0,i] + A[1,i] + A[2,i]\n",
    "        if soma == 3 or soma == -3:\n",
    "            return 1\n",
    "\n",
    "    diag1 = A[0,0] + A[1,1] + A[2,2]  #checar as diaonais\n",
    "    diag2 = A[0,2] + A[1,1] + A[2,0]\n",
    "    if diag1 == 3 or diag1 == -3 or diag2 == 3 or diag2 ==-3:\n",
    "        return 1\n",
    "\n",
    "    return 0"
   ]
  },
  {
   "cell_type": "code",
   "execution_count": null,
   "metadata": {},
   "outputs": [],
   "source": []
  },
  {
   "cell_type": "code",
   "execution_count": null,
   "metadata": {},
   "outputs": [],
   "source": []
  },
  {
   "cell_type": "code",
   "execution_count": null,
   "metadata": {},
   "outputs": [],
   "source": []
  }
 ],
 "metadata": {
  "kernelspec": {
   "display_name": "Python 3",
   "language": "python",
   "name": "python3"
  },
  "language_info": {
   "codemirror_mode": {
    "name": "ipython",
    "version": 3
   },
   "file_extension": ".py",
   "mimetype": "text/x-python",
   "name": "python",
   "nbconvert_exporter": "python",
   "pygments_lexer": "ipython3",
   "version": "3.8.5"
  }
 },
 "nbformat": 4,
 "nbformat_minor": 4
}
