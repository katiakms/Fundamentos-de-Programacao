{
 "cells": [
  {
   "cell_type": "code",
   "execution_count": 1,
   "metadata": {},
   "outputs": [],
   "source": [
    "#Lista de exercícios 3\n",
    "\n",
    "#2) O resturante a quilo Bem-Gostoso cobra R$ 45,00 por cada quilo de refeição\n",
    "#Escreva um algoritmo que leia o peso do prato mostrado pelo cliente (em gramas) e imprima o valor a pagar\n",
    "#A balança já desconta automaticamente o peso do prato"
   ]
  },
  {
   "cell_type": "code",
   "execution_count": null,
   "metadata": {},
   "outputs": [],
   "source": [
    "peso_prato = input('Entre o peso do prato: ')\n",
    "\n",
    "preco_kg = 45\n",
    "\n",
    "peso_em_kg = float(peso_prato)/1000\n",
    "\n",
    "valor = (peso_em_kg)*preco_kg\n",
    "\n",
    "print('O valor a pagar é:', valor)"
   ]
  },
  {
   "cell_type": "code",
   "execution_count": null,
   "metadata": {},
   "outputs": [],
   "source": []
  },
  {
   "cell_type": "code",
   "execution_count": null,
   "metadata": {},
   "outputs": [],
   "source": []
  },
  {
   "cell_type": "code",
   "execution_count": null,
   "metadata": {},
   "outputs": [],
   "source": []
  }
 ],
 "metadata": {
  "kernelspec": {
   "display_name": "Python 3",
   "language": "python",
   "name": "python3"
  },
  "language_info": {
   "codemirror_mode": {
    "name": "ipython",
    "version": 3
   },
   "file_extension": ".py",
   "mimetype": "text/x-python",
   "name": "python",
   "nbconvert_exporter": "python",
   "pygments_lexer": "ipython3",
   "version": "3.8.5"
  }
 },
 "nbformat": 4,
 "nbformat_minor": 4
}
