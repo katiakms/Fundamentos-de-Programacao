{
 "cells": [
  {
   "cell_type": "code",
   "execution_count": 16,
   "metadata": {},
   "outputs": [],
   "source": [
    "#Lista de exercícios 2\n",
    "\n",
    "#1) A imobiliária Imóbilis vende apenas terrenos retangulares. \n",
    "#Faça um algoritmo para ler as dimensões de um terreno e depois exibir a área do terreno\n",
    "\n",
    "#área do retângulo = a*b "
   ]
  },
  {
   "cell_type": "code",
   "execution_count": null,
   "metadata": {},
   "outputs": [
    {
     "name": "stdout",
     "output_type": "stream",
     "text": [
      "Entre com o valor de um lado do terreno: 20\n"
     ]
    }
   ],
   "source": [
    "a = input('Entre com o valor de um lado do terreno: ')\n",
    "b = input('Entre com o valor do outro lado do terreno: ')\n",
    "\n",
    "area = int(a)*int(b)\n",
    "\n",
    "print(\"A área do terreno é: \", area)"
   ]
  },
  {
   "cell_type": "code",
   "execution_count": null,
   "metadata": {},
   "outputs": [],
   "source": []
  },
  {
   "cell_type": "code",
   "execution_count": null,
   "metadata": {},
   "outputs": [],
   "source": []
  },
  {
   "cell_type": "code",
   "execution_count": null,
   "metadata": {},
   "outputs": [],
   "source": []
  }
 ],
 "metadata": {
  "kernelspec": {
   "display_name": "Python 3",
   "language": "python",
   "name": "python3"
  },
  "language_info": {
   "codemirror_mode": {
    "name": "ipython",
    "version": 3
   },
   "file_extension": ".py",
   "mimetype": "text/x-python",
   "name": "python",
   "nbconvert_exporter": "python",
   "pygments_lexer": "ipython3",
   "version": "3.8.5"
  }
 },
 "nbformat": 4,
 "nbformat_minor": 4
}
