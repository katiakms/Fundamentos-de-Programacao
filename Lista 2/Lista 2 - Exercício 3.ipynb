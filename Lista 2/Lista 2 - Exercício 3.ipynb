{
 "cells": [
  {
   "cell_type": "code",
   "execution_count": 2,
   "metadata": {},
   "outputs": [],
   "source": [
    "#Lista de exercícios 2\n",
    "\n",
    "#3) A padaria Hotpão vende uma certa quantidade de pães franceses e uma quantidade de broas a cada dia. \n",
    "#Cada pãozinho custa R$ 0,50 e a broa custa dois reais. Ao final do dia, o dono quer \n",
    "#saber quanto arrecadou com a venda dos pães e das broas. \n",
    "#Faça um algoritmo que leia o número de pães e broas vendidos em um dia e calcule o total arrecadado."
   ]
  },
  {
   "cell_type": "code",
   "execution_count": null,
   "metadata": {},
   "outputs": [],
   "source": [
    "valor_paozinho = 0.5\n",
    "valor_broa = 2\n",
    "\n",
    "num_paozinho = input('Entre quantos pãozinhos vendeu hoje: ')\n",
    "num_broa =  input('Entre quantas broas vendeu hoje: ')\n",
    "\n",
    "valor_pao = int(num_paozinho)*valor_paozinho\n",
    "valor_broa = int(num_broa)*valor_broa\n",
    "\n",
    "valor_total = valor_pao + valor_broa\n",
    "\n",
    "print(\"O total arrecadado hoje foi de: R$\", valor_total)"
   ]
  },
  {
   "cell_type": "code",
   "execution_count": null,
   "metadata": {},
   "outputs": [],
   "source": []
  },
  {
   "cell_type": "code",
   "execution_count": null,
   "metadata": {},
   "outputs": [],
   "source": []
  },
  {
   "cell_type": "code",
   "execution_count": null,
   "metadata": {},
   "outputs": [],
   "source": []
  }
 ],
 "metadata": {
  "kernelspec": {
   "display_name": "Python 3",
   "language": "python",
   "name": "python3"
  },
  "language_info": {
   "codemirror_mode": {
    "name": "ipython",
    "version": 3
   },
   "file_extension": ".py",
   "mimetype": "text/x-python",
   "name": "python",
   "nbconvert_exporter": "python",
   "pygments_lexer": "ipython3",
   "version": "3.8.5"
  }
 },
 "nbformat": 4,
 "nbformat_minor": 4
}
