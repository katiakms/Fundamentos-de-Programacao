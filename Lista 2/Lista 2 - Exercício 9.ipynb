{
 "cells": [
  {
   "cell_type": "code",
   "execution_count": null,
   "metadata": {},
   "outputs": [],
   "source": [
    "#Lista de exercícios 2\n",
    "\n",
    "#9) O lojista gostou tanto do seu programa anterior que encomendou outro. \n",
    "#Dessa vez ele quer que você calcule quanto cada cliente gastou na loja apenas informando o número de camisetas,\n",
    "#calças e cintos comprados. \n",
    "#As camisetas custam R$ 25,00, as calças cem reais e os cintos 40 reais.\n",
    "#Some o valor da compra e ao final dê um desconto de 10 por cento sobre o total. \n",
    "#Exiba na tela o valor do desconto e o valor da compra."
   ]
  },
  {
   "cell_type": "code",
   "execution_count": 2,
   "metadata": {},
   "outputs": [
    {
     "name": "stdout",
     "output_type": "stream",
     "text": [
      "Entre o número de camisetas compradas: 2\n",
      "Entre o número de calças compradas: 3\n",
      "Entre o número de cintos comprados: 1\n"
     ]
    }
   ],
   "source": [
    "num_camisetas = input('Entre o número de camisetas compradas: ')\n",
    "num_calcas = input('Entre o número de calças compradas: ')\n",
    "num_cintos = input('Entre o número de cintos comprados: ')\n",
    "\n",
    "valor_camiseta = 25\n",
    "valor_calca = 100\n",
    "valor_cinto = 40\n",
    "\n",
    "desconto = 10/100"
   ]
  },
  {
   "cell_type": "code",
   "execution_count": 4,
   "metadata": {},
   "outputs": [
    {
     "name": "stdout",
     "output_type": "stream",
     "text": [
      "390\n"
     ]
    }
   ],
   "source": [
    "valor_total = int(num_camisetas)*valor_camiseta + int(num_calcas)*valor_calca + int(num_cintos)*valor_cinto\n",
    "print(valor_total)"
   ]
  },
  {
   "cell_type": "code",
   "execution_count": 6,
   "metadata": {},
   "outputs": [
    {
     "name": "stdout",
     "output_type": "stream",
     "text": [
      "39.0\n"
     ]
    }
   ],
   "source": [
    "valor_desconto = int(valor_total)*desconto\n",
    "print(valor_desconto)"
   ]
  },
  {
   "cell_type": "code",
   "execution_count": 7,
   "metadata": {},
   "outputs": [],
   "source": [
    "valor_com_desconto = valor_total - valor_desconto"
   ]
  },
  {
   "cell_type": "code",
   "execution_count": 8,
   "metadata": {},
   "outputs": [
    {
     "name": "stdout",
     "output_type": "stream",
     "text": [
      "O desconto foi de 39.0 reais\n",
      "O valor total com desconto foi de 351.0 reais\n"
     ]
    }
   ],
   "source": [
    "print('O desconto foi de', valor_desconto, 'reais')\n",
    "print('O valor total com desconto foi de', valor_com_desconto, 'reais')"
   ]
  }
 ],
 "metadata": {
  "kernelspec": {
   "display_name": "Python 3",
   "language": "python",
   "name": "python3"
  },
  "language_info": {
   "codemirror_mode": {
    "name": "ipython",
    "version": 3
   },
   "file_extension": ".py",
   "mimetype": "text/x-python",
   "name": "python",
   "nbconvert_exporter": "python",
   "pygments_lexer": "ipython3",
   "version": "3.8.5"
  }
 },
 "nbformat": 4,
 "nbformat_minor": 4
}
