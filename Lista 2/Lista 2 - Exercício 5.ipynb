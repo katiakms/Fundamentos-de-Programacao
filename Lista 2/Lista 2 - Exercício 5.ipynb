{
 "cells": [
  {
   "cell_type": "code",
   "execution_count": 1,
   "metadata": {},
   "outputs": [],
   "source": [
    "#Lista de exercícios 2\n",
    "\n",
    "#5) Faça um algoritmo que permita ao aluno calcular a sua média final na Unisinos. \n",
    "#Leia a nota do grau A e do grau B e escreva o resultado na tela\n",
    "#Lembrando que o grau A vale 1/3 e o grau B 2/3"
   ]
  },
  {
   "cell_type": "code",
   "execution_count": 1,
   "metadata": {},
   "outputs": [
    {
     "name": "stdout",
     "output_type": "stream",
     "text": [
      "Entre a nota do grau A: 7\n",
      "Entre a nota do grau B: 9\n",
      "A nota total foi de: 8.333333333333332\n"
     ]
    }
   ],
   "source": [
    "nota_A = input('Entre a nota do grau A: ')\n",
    "nota_B = input('Entre a nota do grau B: ')\n",
    "\n",
    "nota_total = 1/3 * int(nota_A) + 2/3 * int(nota_B)\n",
    "\n",
    "print('A nota total foi de:', nota_total)"
   ]
  },
  {
   "cell_type": "code",
   "execution_count": null,
   "metadata": {},
   "outputs": [],
   "source": []
  },
  {
   "cell_type": "code",
   "execution_count": null,
   "metadata": {},
   "outputs": [],
   "source": []
  }
 ],
 "metadata": {
  "kernelspec": {
   "display_name": "Python 3",
   "language": "python",
   "name": "python3"
  },
  "language_info": {
   "codemirror_mode": {
    "name": "ipython",
    "version": 3
   },
   "file_extension": ".py",
   "mimetype": "text/x-python",
   "name": "python",
   "nbconvert_exporter": "python",
   "pygments_lexer": "ipython3",
   "version": "3.8.5"
  }
 },
 "nbformat": 4,
 "nbformat_minor": 4
}
