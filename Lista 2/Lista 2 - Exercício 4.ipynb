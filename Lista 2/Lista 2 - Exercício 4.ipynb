{
 "cells": [
  {
   "cell_type": "code",
   "execution_count": 1,
   "metadata": {},
   "outputs": [],
   "source": [
    "#Lista de exercícios 2\n",
    "\n",
    "#4) Um motorista deseja colocar no seu tanque X reais de gasolina.\n",
    "#Escreva um algoritmo para ler o preço do litro da gasolina e o valor que o motorista tem disponível para abastecer\n",
    "#Calcule quantos litros ele conseguiu colocar no tanque e exiba na tela."
   ]
  },
  {
   "cell_type": "code",
   "execution_count": 4,
   "metadata": {},
   "outputs": [
    {
     "name": "stdout",
     "output_type": "stream",
     "text": [
      "Entre o preço do litro da gasolina: 4\n",
      "Entre o valor que o motorista tem disponível para abastecer: 50\n",
      "O motorista consegue colocar no tanque 12.5 litros de gasolina\n"
     ]
    }
   ],
   "source": [
    "valor_litro = input('Entre o preço do litro da gasolina: ')\n",
    "disponivel_motorista =  input('Entre o valor que o motorista tem disponível para abastecer: ')\n",
    "\n",
    "# regra de 3: se 1 litro é valor_litro reais, quantos litros dá \"disponivel_motorista\"?\n",
    "litros = int(disponivel_motorista)/int(valor_litro)\n",
    "\n",
    "print(\"O motorista consegue colocar no tanque\", litros, \"litros de gasolina\")"
   ]
  },
  {
   "cell_type": "code",
   "execution_count": null,
   "metadata": {},
   "outputs": [],
   "source": []
  },
  {
   "cell_type": "code",
   "execution_count": null,
   "metadata": {},
   "outputs": [],
   "source": []
  }
 ],
 "metadata": {
  "kernelspec": {
   "display_name": "Python 3",
   "language": "python",
   "name": "python3"
  },
  "language_info": {
   "codemirror_mode": {
    "name": "ipython",
    "version": 3
   },
   "file_extension": ".py",
   "mimetype": "text/x-python",
   "name": "python",
   "nbconvert_exporter": "python",
   "pygments_lexer": "ipython3",
   "version": "3.8.5"
  }
 },
 "nbformat": 4,
 "nbformat_minor": 4
}
