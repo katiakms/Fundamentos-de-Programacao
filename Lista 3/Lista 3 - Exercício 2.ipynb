{
 "cells": [
  {
   "cell_type": "code",
   "execution_count": 1,
   "metadata": {},
   "outputs": [],
   "source": [
    "#Lista de exercícios 3\n",
    "\n",
    "#1) Faça um algoritmo para ler o salário de um funcionário e aumentá-lo em 15%\n",
    "#Após o aumento, desconte 8% de impostos\n",
    "#Imprima o salário inicial, o salário com aumento e o salário final"
   ]
  },
  {
   "cell_type": "code",
   "execution_count": 1,
   "metadata": {},
   "outputs": [
    {
     "name": "stdout",
     "output_type": "stream",
     "text": [
      "Entre o salário: 200\n",
      "O salário inicial é: 200\n",
      "O salário com aumento é: 230.0\n",
      "O salário final é: 211.6\n"
     ]
    }
   ],
   "source": [
    "salario_inicial = input('Entre o salário: ')\n",
    "\n",
    "aumento = 15/100\n",
    "imposto = 8/100\n",
    "\n",
    "salario_aumento = float(salario_inicial) + float(salario_inicial)*aumento\n",
    "salario_final = salario_aumento - salario_aumento*imposto\n",
    "\n",
    "print('O salário inicial é:', salario_inicial)\n",
    "print('O salário com aumento é:', salario_aumento)\n",
    "print('O salário final é:', salario_final)"
   ]
  },
  {
   "cell_type": "code",
   "execution_count": null,
   "metadata": {},
   "outputs": [],
   "source": []
  },
  {
   "cell_type": "code",
   "execution_count": null,
   "metadata": {},
   "outputs": [],
   "source": []
  }
 ],
 "metadata": {
  "kernelspec": {
   "display_name": "Python 3",
   "language": "python",
   "name": "python3"
  },
  "language_info": {
   "codemirror_mode": {
    "name": "ipython",
    "version": 3
   },
   "file_extension": ".py",
   "mimetype": "text/x-python",
   "name": "python",
   "nbconvert_exporter": "python",
   "pygments_lexer": "ipython3",
   "version": "3.8.5"
  }
 },
 "nbformat": 4,
 "nbformat_minor": 4
}
