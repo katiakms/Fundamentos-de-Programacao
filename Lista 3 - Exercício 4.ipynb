{
 "cells": [
  {
   "cell_type": "code",
   "execution_count": 1,
   "metadata": {},
   "outputs": [],
   "source": [
    "#Lista de exercícios 3\n",
    "\n",
    "#4) O Pedrinho tem um cofrinho com muitas moedas e deseja saber quantos reais conseguiu poupar.\n",
    "#Faça um algoritmo para ler a quantidade de cada tipo de moeda e imprimir o valor total economizado.\n",
    "#Considere que existam moedas de 1, 5, 10, 25 e 50 centavos e ainda moedas de 1 real\n",
    "#Não havendo moeda de um tipo, a quantidade respectiva é zero"
   ]
  },
  {
   "cell_type": "code",
   "execution_count": null,
   "metadata": {},
   "outputs": [
    {
     "name": "stdout",
     "output_type": "stream",
     "text": [
      "Entre o número de moedas de 1 centavo: 10\n",
      "Entre o número de moedas de 5 centavos: 40\n",
      "Entre o número de moedas de 10 centavos: 15\n",
      "Entre o número de moedas de 25 centavos: 2\n",
      "Entre o número de moedas de 50 centavos: 10\n"
     ]
    }
   ],
   "source": [
    "moedas_1 = input('Entre o número de moedas de 1 centavo: ')\n",
    "moedas_5 = input('Entre o número de moedas de 5 centavos: ')\n",
    "moedas_10 = input('Entre o número de moedas de 10 centavos: ')\n",
    "moedas_25 = input('Entre o número de moedas de 25 centavos: ')\n",
    "moedas_50 = input('Entre o número de moedas de 50 centavos: ')\n",
    "moedas_1real = input('Entre o número de moedas de 1 real: ')\n",
    "\n",
    "valor_moeda_1 = int(moedas_1)*1/100\n",
    "valor_moeda_5 = int(moedas_5)*5/100\n",
    "valor_moeda_10 = int(moedas_10)*10/100\n",
    "valor_moeda_25 = int(moedas_25)*25/100\n",
    "valor_moeda_50 = int(moedas_50)*50/100\n",
    "\n",
    "valor_economizado = valor_moeda_1 + valor_moeda_5 + valor_moeda_10 + valor_moeda_25 + valor_moeda_50  + float(moedas_1real)\n",
    "\n",
    "print('O valor economizado é:', valor_economizado)"
   ]
  },
  {
   "cell_type": "code",
   "execution_count": null,
   "metadata": {},
   "outputs": [],
   "source": []
  }
 ],
 "metadata": {
  "kernelspec": {
   "display_name": "Python 3",
   "language": "python",
   "name": "python3"
  },
  "language_info": {
   "codemirror_mode": {
    "name": "ipython",
    "version": 3
   },
   "file_extension": ".py",
   "mimetype": "text/x-python",
   "name": "python",
   "nbconvert_exporter": "python",
   "pygments_lexer": "ipython3",
   "version": "3.8.5"
  }
 },
 "nbformat": 4,
 "nbformat_minor": 4
}
